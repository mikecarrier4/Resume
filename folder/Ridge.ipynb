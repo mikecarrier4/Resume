{
 "cells": [
  {
   "cell_type": "markdown",
   "metadata": {
    "id": "39NVIHW3PLgl"
   },
   "source": [
    "Lambda School Data Science\n",
    "\n",
    "*Unit 2, Sprint 1, Module 3*\n",
    "\n",
    "---"
   ]
  },
  {
   "cell_type": "code",
   "execution_count": null,
   "metadata": {},
   "outputs": [],
   "source": [
    "#Linear & Ridge Regression example using sklearn"
   ]
  },
  {
   "cell_type": "code",
   "execution_count": 154,
   "metadata": {
    "id": "7GpLUi06PLgq"
   },
   "outputs": [],
   "source": [
    "%%capture\n",
    "import sys\n",
    "\n",
    "\n",
    "# If you're on Colab:\n",
    "if 'google.colab' in sys.modules:\n",
    "    DATA_PATH = 'https://raw.githubusercontent.com/LambdaSchool/DS-Unit-2-Applied-Modeling/master/data/'\n",
    "    !pip install category_encoders==2.*\n",
    "\n",
    "# If you're working locally:\n",
    "else:\n",
    "    DATA_PATH = '../data/'\n"
   ]
  },
  {
   "cell_type": "code",
   "execution_count": 248,
   "metadata": {
    "id": "iSzLBfyNPLgs"
   },
   "outputs": [],
   "source": [
    "import pandas as pd\n",
    "import numpy as np\n",
    "import sklearn as sk\n",
    "import regex\n",
    "\n",
    "\n",
    "def wrangle(filepath):\n",
    "    # Import csv file\n",
    "    cols = ['BOROUGH', 'NEIGHBORHOOD',\n",
    "            'BUILDING CLASS CATEGORY', 'GROSS SQUARE FEET',  \n",
    "            'YEAR BUILT', 'SALE PRICE', 'SALE DATE']\n",
    "    df = pd.read_csv(filepath, usecols=cols, index_col='SALE DATE')\n",
    "    df.index = pd.to_datetime(df.index, infer_datetime_format=True)\n",
    "    df['BOROUGH'] = df['BOROUGH'].apply(str)\n",
    "    df['SALE PRICE'] = df['SALE PRICE'].str.replace(r'\\D+', '')\n",
    "    df['SALE PRICE'] = df['SALE PRICE'].apply(float)\n",
    "    df = df[df['BUILDING CLASS CATEGORY'] == '01 ONE FAMILY DWELLINGS']\n",
    "    df = df[df['SALE PRICE'] >= 100000] \n",
    "    df = df[df['SALE PRICE'] <= 200000]\n",
    "    df\n",
    "    \n",
    "    \n",
    "     \n",
    "    return df\n",
    "\n",
    "filepath = DATA_PATH+'condos/NYC_Citywide_Rolling_Calendar_Sales.csv'\n"
   ]
  },
  {
   "cell_type": "code",
   "execution_count": 156,
   "metadata": {
    "id": "M8FTu25kPLgs"
   },
   "outputs": [],
   "source": [
    "df = wrangle (filepath)\n"
   ]
  },
  {
   "cell_type": "code",
   "execution_count": 157,
   "metadata": {
    "colab": {
     "base_uri": "https://localhost:8080/",
     "height": 225
    },
    "id": "KnCeOUh-Nj3I",
    "outputId": "c5e29d78-00a1-48e9-df73-3d6982c8de11"
   },
   "outputs": [
    {
     "data": {
      "text/html": [
       "<div>\n",
       "<style scoped>\n",
       "    .dataframe tbody tr th:only-of-type {\n",
       "        vertical-align: middle;\n",
       "    }\n",
       "\n",
       "    .dataframe tbody tr th {\n",
       "        vertical-align: top;\n",
       "    }\n",
       "\n",
       "    .dataframe thead th {\n",
       "        text-align: right;\n",
       "    }\n",
       "</style>\n",
       "<table border=\"1\" class=\"dataframe\">\n",
       "  <thead>\n",
       "    <tr style=\"text-align: right;\">\n",
       "      <th></th>\n",
       "      <th>BOROUGH</th>\n",
       "      <th>NEIGHBORHOOD</th>\n",
       "      <th>BUILDING CLASS CATEGORY</th>\n",
       "      <th>GROSS SQUARE FEET</th>\n",
       "      <th>YEAR BUILT</th>\n",
       "      <th>SALE PRICE</th>\n",
       "    </tr>\n",
       "    <tr>\n",
       "      <th>SALE DATE</th>\n",
       "      <th></th>\n",
       "      <th></th>\n",
       "      <th></th>\n",
       "      <th></th>\n",
       "      <th></th>\n",
       "      <th></th>\n",
       "    </tr>\n",
       "  </thead>\n",
       "  <tbody>\n",
       "    <tr>\n",
       "      <th>2019-01-01</th>\n",
       "      <td>4</td>\n",
       "      <td>QUEENS VILLAGE</td>\n",
       "      <td>01 ONE FAMILY DWELLINGS</td>\n",
       "      <td>2001.0</td>\n",
       "      <td>1940.0</td>\n",
       "      <td>200000.0</td>\n",
       "    </tr>\n",
       "    <tr>\n",
       "      <th>2019-01-02</th>\n",
       "      <td>3</td>\n",
       "      <td>FLATBUSH-CENTRAL</td>\n",
       "      <td>01 ONE FAMILY DWELLINGS</td>\n",
       "      <td>2680.0</td>\n",
       "      <td>1899.0</td>\n",
       "      <td>125000.0</td>\n",
       "    </tr>\n",
       "    <tr>\n",
       "      <th>2019-01-03</th>\n",
       "      <td>4</td>\n",
       "      <td>FAR ROCKAWAY</td>\n",
       "      <td>01 ONE FAMILY DWELLINGS</td>\n",
       "      <td>2808.0</td>\n",
       "      <td>1920.0</td>\n",
       "      <td>200000.0</td>\n",
       "    </tr>\n",
       "    <tr>\n",
       "      <th>2019-01-07</th>\n",
       "      <td>2</td>\n",
       "      <td>WESTCHESTER</td>\n",
       "      <td>01 ONE FAMILY DWELLINGS</td>\n",
       "      <td>1400.0</td>\n",
       "      <td>1925.0</td>\n",
       "      <td>108000.0</td>\n",
       "    </tr>\n",
       "    <tr>\n",
       "      <th>2019-01-07</th>\n",
       "      <td>5</td>\n",
       "      <td>PORT IVORY</td>\n",
       "      <td>01 ONE FAMILY DWELLINGS</td>\n",
       "      <td>944.0</td>\n",
       "      <td>1910.0</td>\n",
       "      <td>125000.0</td>\n",
       "    </tr>\n",
       "  </tbody>\n",
       "</table>\n",
       "</div>"
      ],
      "text/plain": [
       "           BOROUGH      NEIGHBORHOOD  ... YEAR BUILT  SALE PRICE\n",
       "SALE DATE                             ...                       \n",
       "2019-01-01       4    QUEENS VILLAGE  ...     1940.0    200000.0\n",
       "2019-01-02       3  FLATBUSH-CENTRAL  ...     1899.0    125000.0\n",
       "2019-01-03       4      FAR ROCKAWAY  ...     1920.0    200000.0\n",
       "2019-01-07       2       WESTCHESTER  ...     1925.0    108000.0\n",
       "2019-01-07       5        PORT IVORY  ...     1910.0    125000.0\n",
       "\n",
       "[5 rows x 6 columns]"
      ]
     },
     "execution_count": 157,
     "metadata": {
      "tags": []
     },
     "output_type": "execute_result"
    }
   ],
   "source": [
    "df.head()"
   ]
  },
  {
   "cell_type": "code",
   "execution_count": 158,
   "metadata": {
    "colab": {
     "base_uri": "https://localhost:8080/"
    },
    "id": "vjItIQlQPLgt",
    "outputId": "f12d91f9-5cab-4461-942b-7cd5736b1d3e"
   },
   "outputs": [
    {
     "data": {
      "text/plain": [
       "Index(['BOROUGH', 'NEIGHBORHOOD', 'BUILDING CLASS CATEGORY',\n",
       "       'GROSS SQUARE FEET', 'YEAR BUILT', 'SALE PRICE'],\n",
       "      dtype='object')"
      ]
     },
     "execution_count": 158,
     "metadata": {
      "tags": []
     },
     "output_type": "execute_result"
    }
   ],
   "source": [
    "# Perform your exploratory data analysis here and\n",
    "# modify the wrangle function above\n",
    "df.head()\n",
    "df.shape\n",
    "df.columns\n"
   ]
  },
  {
   "cell_type": "code",
   "execution_count": 232,
   "metadata": {
    "id": "TSCrIECoPLgt"
   },
   "outputs": [],
   "source": [
    "#REMOVED NEIGHBORHOOD DUE TO SMALL SAMPLE SIZES \n",
    "X = df[['BOROUGH', 'GROSS SQUARE FEET', 'YEAR BUILT']]\n",
    "Y = df['SALE PRICE']"
   ]
  },
  {
   "cell_type": "code",
   "execution_count": 233,
   "metadata": {
    "id": "EzDd3ZbaPLgu"
   },
   "outputs": [],
   "source": [
    "cuttoff = pd.to_datetime('2019-04-01')\n",
    "X_train, Y_train = X[X.index < cuttoff], Y[Y.index < cuttoff]\n",
    "X_test, Y_test = X[X.index >= cuttoff], Y[Y.index >= cuttoff]"
   ]
  },
  {
   "cell_type": "code",
   "execution_count": 234,
   "metadata": {
    "colab": {
     "base_uri": "https://localhost:8080/"
    },
    "id": "1WKAtFGxjFeH",
    "outputId": "fa872404-3834-4abd-82a9-e144369e239f"
   },
   "outputs": [
    {
     "data": {
      "text/plain": [
       "((14, 3), (14,), (73, 3), (73,))"
      ]
     },
     "execution_count": 234,
     "metadata": {
      "tags": []
     },
     "output_type": "execute_result"
    }
   ],
   "source": [
    "X_test.shape, Y_test.shape, X_train.shape, Y_train.shape"
   ]
  },
  {
   "cell_type": "code",
   "execution_count": 235,
   "metadata": {
    "colab": {
     "base_uri": "https://localhost:8080/"
    },
    "id": "Noo543xuPLgu",
    "outputId": "32e737ff-5ede-464e-b9b9-ec0d07f11f63"
   },
   "outputs": [
    {
     "name": "stdout",
     "output_type": "stream",
     "text": [
      "Baseline MAE: 28886.015387502346\n"
     ]
    }
   ],
   "source": [
    "guess = Y_train.mean()\n",
    "Y_pred = [guess] * len(Y_train)\n",
    "\n",
    "from sklearn.metrics import mean_absolute_error\n",
    "baseline_mae = mean_absolute_error(Y_train, Y_pred)\n",
    "print('Baseline MAE:', baseline_mae)"
   ]
  },
  {
   "cell_type": "code",
   "execution_count": 236,
   "metadata": {
    "colab": {
     "base_uri": "https://localhost:8080/"
    },
    "id": "ZnzJsI2MPLgv",
    "outputId": "8de6fb93-f70c-453d-9657-740f6d069698"
   },
   "outputs": [
    {
     "name": "stderr",
     "output_type": "stream",
     "text": [
      "/usr/local/lib/python3.7/dist-packages/category_encoders/utils.py:21: FutureWarning: is_categorical is deprecated and will be removed in a future version.  Use is_categorical_dtype instead\n",
      "  elif pd.api.types.is_categorical(cols):\n"
     ]
    }
   ],
   "source": [
    "import category_encoders as ce\n",
    "ohe = ce.OneHotEncoder(use_cat_names = True)\n",
    "\n",
    "XT_train = ohe.fit_transform(X_train)\n",
    "XT_test = ohe.transform(X_test)"
   ]
  },
  {
   "cell_type": "code",
   "execution_count": 174,
   "metadata": {
    "colab": {
     "base_uri": "https://localhost:8080/"
    },
    "id": "uG0ScO1bs4b0",
    "outputId": "2ed8c153-daf1-4c03-f048-c11365b4aa04"
   },
   "outputs": [
    {
     "data": {
      "text/plain": [
       "(14, 48)"
      ]
     },
     "execution_count": 174,
     "metadata": {
      "tags": []
     },
     "output_type": "execute_result"
    }
   ],
   "source": [
    "XT_test.shape"
   ]
  },
  {
   "cell_type": "markdown",
   "metadata": {
    "id": "VvLOUPJaPLgv"
   },
   "source": [
    "**Task 7:** Build and train a `LinearRegression` model named `model_lr`. Remember to train your model using your _transformed_ feature matrix."
   ]
  },
  {
   "cell_type": "code",
   "execution_count": 237,
   "metadata": {
    "colab": {
     "base_uri": "https://localhost:8080/",
     "height": 431
    },
    "id": "IYCh2jC1PLgv",
    "outputId": "db248220-93d8-4070-da12-8c4193b8196e"
   },
   "outputs": [
    {
     "data": {
      "text/html": [
       "<div>\n",
       "<style scoped>\n",
       "    .dataframe tbody tr th:only-of-type {\n",
       "        vertical-align: middle;\n",
       "    }\n",
       "\n",
       "    .dataframe tbody tr th {\n",
       "        vertical-align: top;\n",
       "    }\n",
       "\n",
       "    .dataframe thead th {\n",
       "        text-align: right;\n",
       "    }\n",
       "</style>\n",
       "<table border=\"1\" class=\"dataframe\">\n",
       "  <thead>\n",
       "    <tr style=\"text-align: right;\">\n",
       "      <th></th>\n",
       "      <th>BOROUGH_4</th>\n",
       "      <th>BOROUGH_3</th>\n",
       "      <th>BOROUGH_2</th>\n",
       "      <th>BOROUGH_5</th>\n",
       "      <th>GROSS SQUARE FEET</th>\n",
       "      <th>YEAR BUILT</th>\n",
       "    </tr>\n",
       "    <tr>\n",
       "      <th>SALE DATE</th>\n",
       "      <th></th>\n",
       "      <th></th>\n",
       "      <th></th>\n",
       "      <th></th>\n",
       "      <th></th>\n",
       "      <th></th>\n",
       "    </tr>\n",
       "  </thead>\n",
       "  <tbody>\n",
       "    <tr>\n",
       "      <th>2019-01-01</th>\n",
       "      <td>1</td>\n",
       "      <td>0</td>\n",
       "      <td>0</td>\n",
       "      <td>0</td>\n",
       "      <td>2001.0</td>\n",
       "      <td>1940.0</td>\n",
       "    </tr>\n",
       "    <tr>\n",
       "      <th>2019-01-02</th>\n",
       "      <td>0</td>\n",
       "      <td>1</td>\n",
       "      <td>0</td>\n",
       "      <td>0</td>\n",
       "      <td>2680.0</td>\n",
       "      <td>1899.0</td>\n",
       "    </tr>\n",
       "    <tr>\n",
       "      <th>2019-01-03</th>\n",
       "      <td>1</td>\n",
       "      <td>0</td>\n",
       "      <td>0</td>\n",
       "      <td>0</td>\n",
       "      <td>2808.0</td>\n",
       "      <td>1920.0</td>\n",
       "    </tr>\n",
       "    <tr>\n",
       "      <th>2019-01-07</th>\n",
       "      <td>0</td>\n",
       "      <td>0</td>\n",
       "      <td>1</td>\n",
       "      <td>0</td>\n",
       "      <td>1400.0</td>\n",
       "      <td>1925.0</td>\n",
       "    </tr>\n",
       "    <tr>\n",
       "      <th>2019-01-07</th>\n",
       "      <td>0</td>\n",
       "      <td>0</td>\n",
       "      <td>0</td>\n",
       "      <td>1</td>\n",
       "      <td>944.0</td>\n",
       "      <td>1910.0</td>\n",
       "    </tr>\n",
       "    <tr>\n",
       "      <th>...</th>\n",
       "      <td>...</td>\n",
       "      <td>...</td>\n",
       "      <td>...</td>\n",
       "      <td>...</td>\n",
       "      <td>...</td>\n",
       "      <td>...</td>\n",
       "    </tr>\n",
       "    <tr>\n",
       "      <th>2019-03-22</th>\n",
       "      <td>1</td>\n",
       "      <td>0</td>\n",
       "      <td>0</td>\n",
       "      <td>0</td>\n",
       "      <td>1200.0</td>\n",
       "      <td>1955.0</td>\n",
       "    </tr>\n",
       "    <tr>\n",
       "      <th>2019-03-25</th>\n",
       "      <td>0</td>\n",
       "      <td>1</td>\n",
       "      <td>0</td>\n",
       "      <td>0</td>\n",
       "      <td>1800.0</td>\n",
       "      <td>1933.0</td>\n",
       "    </tr>\n",
       "    <tr>\n",
       "      <th>2019-03-27</th>\n",
       "      <td>0</td>\n",
       "      <td>0</td>\n",
       "      <td>0</td>\n",
       "      <td>1</td>\n",
       "      <td>828.0</td>\n",
       "      <td>1925.0</td>\n",
       "    </tr>\n",
       "    <tr>\n",
       "      <th>2019-03-29</th>\n",
       "      <td>0</td>\n",
       "      <td>0</td>\n",
       "      <td>0</td>\n",
       "      <td>1</td>\n",
       "      <td>1700.0</td>\n",
       "      <td>1998.0</td>\n",
       "    </tr>\n",
       "    <tr>\n",
       "      <th>2019-03-30</th>\n",
       "      <td>1</td>\n",
       "      <td>0</td>\n",
       "      <td>0</td>\n",
       "      <td>0</td>\n",
       "      <td>1163.0</td>\n",
       "      <td>1950.0</td>\n",
       "    </tr>\n",
       "  </tbody>\n",
       "</table>\n",
       "<p>73 rows × 6 columns</p>\n",
       "</div>"
      ],
      "text/plain": [
       "            BOROUGH_4  BOROUGH_3  ...  GROSS SQUARE FEET  YEAR BUILT\n",
       "SALE DATE                         ...                               \n",
       "2019-01-01          1          0  ...             2001.0      1940.0\n",
       "2019-01-02          0          1  ...             2680.0      1899.0\n",
       "2019-01-03          1          0  ...             2808.0      1920.0\n",
       "2019-01-07          0          0  ...             1400.0      1925.0\n",
       "2019-01-07          0          0  ...              944.0      1910.0\n",
       "...               ...        ...  ...                ...         ...\n",
       "2019-03-22          1          0  ...             1200.0      1955.0\n",
       "2019-03-25          0          1  ...             1800.0      1933.0\n",
       "2019-03-27          0          0  ...              828.0      1925.0\n",
       "2019-03-29          0          0  ...             1700.0      1998.0\n",
       "2019-03-30          1          0  ...             1163.0      1950.0\n",
       "\n",
       "[73 rows x 6 columns]"
      ]
     },
     "execution_count": 237,
     "metadata": {
      "tags": []
     },
     "output_type": "execute_result"
    }
   ],
   "source": [
    "from sklearn.linear_model import LinearRegression\n",
    "from sklearn.feature_selection import SelectKBest, f_regression\n",
    "\n",
    "XT_train\n",
    "\n",
    "\n"
   ]
  },
  {
   "cell_type": "code",
   "execution_count": 243,
   "metadata": {
    "colab": {
     "base_uri": "https://localhost:8080/"
    },
    "id": "yein6_AT_vrb",
    "outputId": "2d9508af-c1ca-470e-e5f0-84a9e90eb764"
   },
   "outputs": [
    {
     "name": "stdout",
     "output_type": "stream",
     "text": [
      "Feature Selected:\n",
      "BOROUGH_4\n",
      "BOROUGH_3\n",
      "BOROUGH_2\n",
      "BOROUGH_5\n",
      "GROSS SQUARE FEET\n",
      "YEAR BUILT\n",
      "\n",
      "\n",
      "Feature Not Selected:\n",
      "\n",
      "\n"
     ]
    }
   ],
   "source": [
    "selector = SelectKBest(score_func=f_regression, k = 6)\n",
    "X_train_selected = selector.fit_transform(XT_train, Y_train)\n",
    "X_test_selected = selector.transform(XT_test)\n",
    "selected_mask = selector.get_support()\n",
    "all_names = XT_train.columns\n",
    "selected_names=all_names[selected_mask]\n",
    "unselected_names=all_names[~selected_mask]\n",
    "\n",
    "print('Feature Selected:')\n",
    "for name in selected_names:\n",
    "    print(name)\n",
    "\n",
    "print('\\n')\n",
    "\n",
    "\n",
    "print('Feature Not Selected:')\n",
    "for name in unselected_names:\n",
    "    print(name)\n",
    "\n",
    "print('\\n')"
   ]
  },
  {
   "cell_type": "code",
   "execution_count": 249,
   "metadata": {
    "colab": {
     "base_uri": "https://localhost:8080/"
    },
    "id": "EceFyCns1aux",
    "outputId": "19e47b10-1284-4d47-a395-9b1e1183d917"
   },
   "outputs": [
    {
     "name": "stdout",
     "output_type": "stream",
     "text": [
      "1 features\n",
      "Test Mean Absolute Error: $35,612 \n",
      "\n",
      "2 features\n",
      "Test Mean Absolute Error: $36,267 \n",
      "\n",
      "3 features\n",
      "Test Mean Absolute Error: $35,455 \n",
      "\n",
      "4 features\n",
      "Test Mean Absolute Error: $35,407 \n",
      "\n",
      "5 features\n",
      "Test Mean Absolute Error: $35,380 \n",
      "\n",
      "6 features\n",
      "Test Mean Absolute Error: $35,380 \n",
      "\n"
     ]
    }
   ],
   "source": [
    "#running for loop to see what number of features to use\n",
    "for k in range(1, len(XT_train.columns)+1):\n",
    "  print(f'{k} features')\n",
    "\n",
    "  selector = SelectKBest(score_func=f_regression, k = k)\n",
    "  X_train_selected = selector.fit_transform(XT_train, Y_train)\n",
    "  X_test_selected = selector.transform(XT_test)\n",
    " \n",
    "  model = LinearRegression()\n",
    "  model.fit(X_train_selected, Y_train)\n",
    "  y_pred = model.predict(X_test_selected)\n",
    "  mae = mean_absolute_error(Y_test, y_pred)\n",
    "  print(f'Test Mean Absolute Error: ${mae:,.0f} \\n')"
   ]
  },
  {
   "cell_type": "code",
   "execution_count": 245,
   "metadata": {
    "colab": {
     "base_uri": "https://localhost:8080/"
    },
    "id": "AY4-BSEv4IK2",
    "outputId": "e3dfcf46-1640-486e-e624-f47212fed874"
   },
   "outputs": [
    {
     "name": "stdout",
     "output_type": "stream",
     "text": [
      "875.5837612212393\n"
     ]
    }
   ],
   "source": [
    "print(model.coef_[0])"
   ]
  },
  {
   "cell_type": "markdown",
   "metadata": {
    "id": "UVcYw_mfPLgv"
   },
   "source": [
    "**Task 8:** Build and train a `Ridge` model named `model_r`. Remember to train your model using your _transformed_ feature matrix."
   ]
  },
  {
   "cell_type": "code",
   "execution_count": 265,
   "metadata": {
    "colab": {
     "base_uri": "https://localhost:8080/"
    },
    "id": "HMNzkFnFESwF",
    "outputId": "ca939ef0-34fc-4a4f-c8a9-df0cb2a24cb1"
   },
   "outputs": [
    {
     "name": "stdout",
     "output_type": "stream",
     "text": [
      "1 features\n",
      "Test Mean Absolute Error: $35,612 \n",
      "\n",
      "2 features\n",
      "Test Mean Absolute Error: $36,186 \n",
      "\n",
      "3 features\n",
      "Test Mean Absolute Error: $35,488 \n",
      "\n",
      "4 features\n",
      "Test Mean Absolute Error: $35,437 \n",
      "\n",
      "5 features\n",
      "Test Mean Absolute Error: $35,419 \n",
      "\n",
      "6 features\n",
      "Test Mean Absolute Error: $35,395 \n",
      "\n"
     ]
    }
   ],
   "source": [
    "from sklearn.linear_model import Ridge\n",
    "\n",
    "for k in range(1, len(XT_train.columns)+1):\n",
    "  print(f'{k} features')\n",
    "\n",
    "  selector = SelectKBest(score_func=f_regression, k = k)\n",
    "  X_train_selected = selector.fit_transform(XT_train, Y_train)\n",
    "  X_test_selected = selector.transform(XT_test)\n",
    " \n",
    "  model2 = Ridge(alpha = 1.1)\n",
    "  model2.fit(X_train_selected, Y_train)\n",
    "  y_pred = model2.predict(X_test_selected)\n",
    "  mae = mean_absolute_error(Y_test, y_pred)\n",
    "  print(f'Test Mean Absolute Error: ${mae:,.0f} \\n')\n",
    "\n",
    "\n"
   ]
  },
  {
   "cell_type": "code",
   "execution_count": 309,
   "metadata": {
    "colab": {
     "base_uri": "https://localhost:8080/"
    },
    "id": "8132aM_JPLgv",
    "outputId": "c74e2a50-8e99-4371-abdd-76679d4bb78e"
   },
   "outputs": [
    {
     "name": "stdout",
     "output_type": "stream",
     "text": [
      "Test Mean Absolute Error: $35,387 \n",
      " Training Mean Absolute Error: $28,476 \n",
      "\n"
     ]
    }
   ],
   "source": [
    "#using 6 coefficents for Ridge\n",
    "from sklearn.linear_model import RidgeCV\n",
    "selector = SelectKBest(score_func=f_regression, k = 6)\n",
    "X_train_selected = selector.fit_transform(XT_train, Y_train)\n",
    "X_test_selected = selector.transform(XT_test)\n",
    " \n",
    "model2 = Ridge(alpha = .5)\n",
    "model2.fit(X_train_selected, Y_train)\n",
    "y_pred1 = model2.predict(X_train_selected)\n",
    "y_pred2 = model2.predict(X_test_selected)\n",
    "mae1 = mean_absolute_error(Y_train, y_pred1)\n",
    "mae2 = mean_absolute_error(Y_test, y_pred2)\n",
    "print(f'Test Mean Absolute Error: ${mae2:,.0f} \\n', f'Training Mean Absolute Error: ${mae1:,.0f} \\n')\n"
   ]
  },
  {
   "cell_type": "code",
   "execution_count": 281,
   "metadata": {
    "colab": {
     "base_uri": "https://localhost:8080/"
    },
    "id": "xWz9bs9aJaNW",
    "outputId": "cbbe9bc6-e6a4-482e-9224-94b44e5b77a1"
   },
   "outputs": [
    {
     "name": "stdout",
     "output_type": "stream",
     "text": [
      "Test Mean Absolute Error: $35,380 \n",
      " Training Mean Absolute Error: $28,460 \n",
      "\n"
     ]
    }
   ],
   "source": [
    "#using 6 coefficients for Linear\n",
    "\n",
    "selector = SelectKBest(score_func=f_regression, k = 6)\n",
    "X_train_selected = selector.fit_transform(XT_train, Y_train)\n",
    "X_test_selected = selector.transform(XT_test)\n",
    " \n",
    "model1 = LinearRegression()\n",
    "model1.fit(X_train_selected, Y_train)\n",
    "y1_pred1 = model1.predict(X_train_selected)\n",
    "y1_pred2 = model1.predict(X_test_selected)\n",
    "mae1x = mean_absolute_error(Y_train, y1_pred1)\n",
    "mae2x = mean_absolute_error(Y_test, y1_pred2)\n",
    "print(f'Test Mean Absolute Error: ${mae2x:,.0f} \\n', f'Training Mean Absolute Error: ${mae1x:,.0f} \\n')"
   ]
  },
  {
   "cell_type": "code",
   "execution_count": 282,
   "metadata": {
    "colab": {
     "base_uri": "https://localhost:8080/"
    },
    "id": "DhxRqJmOPLgw",
    "outputId": "729fecf1-0303-4ebe-b588-9691269d8c04"
   },
   "outputs": [
    {
     "name": "stdout",
     "output_type": "stream",
     "text": [
      "Linear Training MAE: 28459.765415939823\n",
      "Linear Test MAE: 35379.92635571419\n"
     ]
    }
   ],
   "source": [
    "training_mae_lr = mae1x\n",
    "test_mae_lr = mae2x\n",
    "\n",
    "print('Linear Training MAE:', training_mae_lr)\n",
    "print('Linear Test MAE:', test_mae_lr)"
   ]
  },
  {
   "cell_type": "code",
   "execution_count": 283,
   "metadata": {
    "colab": {
     "base_uri": "https://localhost:8080/"
    },
    "id": "KfU1GtvKPLgw",
    "outputId": "0f01b602-8120-43cc-855a-aac20ed6cf23"
   },
   "outputs": [
    {
     "name": "stdout",
     "output_type": "stream",
     "text": [
      "Ridge Training MAE: 28475.577062801174\n",
      "Ridge Test MAE: 35387.436835021734\n"
     ]
    }
   ],
   "source": [
    "training_mae_r = mae1\n",
    "test_mae_r = mae2\n",
    "\n",
    "print('Ridge Training MAE:', training_mae_r)\n",
    "print('Ridge Test MAE:', test_mae_r)"
   ]
  },
  {
   "cell_type": "code",
   "execution_count": 288,
   "metadata": {
    "colab": {
     "base_uri": "https://localhost:8080/"
    },
    "id": "VEPXYd1IPLgw",
    "outputId": "a58c89f1-d041-4418-ad98-a0c3bbc8728d"
   },
   "outputs": [
    {
     "name": "stdout",
     "output_type": "stream",
     "text": [
      "0.008871278257168713 0.0319585928549837\n"
     ]
    }
   ],
   "source": [
    "# Caculate R^2 score.\n",
    "from sklearn.metrics import r2_score\n",
    "R2Training = r2_score(Y_train, y_pred1)\n",
    "R2Testing = r2_score(Y_test, y_pred2)\n",
    "print(R2Testing, R2Training)"
   ]
  },
  {
   "cell_type": "code",
   "execution_count": 303,
   "metadata": {
    "colab": {
     "base_uri": "https://localhost:8080/",
     "height": 1000
    },
    "id": "GqfHCltaPLg3",
    "outputId": "48cd0b51-f128-46a9-c7c8-fbf4ff487a77"
   },
   "outputs": [
    {
     "data": {
      "text/html": [
       "Ridge Regression, with alpha=0.001"
      ],
      "text/plain": [
       "<IPython.core.display.HTML object>"
      ]
     },
     "metadata": {
      "tags": []
     },
     "output_type": "display_data"
    },
    {
     "data": {
      "image/png": "[encoded data removed]",
      "text/plain": [
       "<Figure size 1152x576 with 1 Axes>"
      ]
     },
     "metadata": {
      "needs_background": "light",
      "tags": []
     },
     "output_type": "display_data"
    },
    {
     "data": {
      "text/html": [
       "Ridge Regression, with alpha=0.01"
      ],
      "text/plain": [
       "<IPython.core.display.HTML object>"
      ]
     },
     "metadata": {
      "tags": []
     },
     "output_type": "display_data"
    },
    {
     "data": {
      "image/png": "[encoded data removed]",
      "text/plain": [
       "<Figure size 1152x576 with 1 Axes>"
      ]
     },
     "metadata": {
      "needs_background": "light",
      "tags": []
     },
     "output_type": "display_data"
    },
    {
     "data": {
      "text/html": [
       "Ridge Regression, with alpha=0.1"
      ],
      "text/plain": [
       "<IPython.core.display.HTML object>"
      ]
     },
     "metadata": {
      "tags": []
     },
     "output_type": "display_data"
    },
    {
     "data": {
      "image/png": "[encoded data removed]",
      "text/plain": [
       "<Figure size 1152x576 with 1 Axes>"
      ]
     },
     "metadata": {
      "needs_background": "light",
      "tags": []
     },
     "output_type": "display_data"
    },
    {
     "data": {
      "text/html": [
       "Ridge Regression, with alpha=1.0"
      ],
      "text/plain": [
       "<IPython.core.display.HTML object>"
      ]
     },
     "metadata": {
      "tags": []
     },
     "output_type": "display_data"
    },
    {
     "data": {
      "image/png": "[encoded data removed]",
      "text/plain": [
       "<Figure size 1152x576 with 1 Axes>"
      ]
     },
     "metadata": {
      "needs_background": "light",
      "tags": []
     },
     "output_type": "display_data"
    },
    {
     "data": {
      "text/html": [
       "Ridge Regression, with alpha=10.0"
      ],
      "text/plain": [
       "<IPython.core.display.HTML object>"
      ]
     },
     "metadata": {
      "tags": []
     },
     "output_type": "display_data"
    },
    {
     "data": {
      "image/png": "[encoded data removed]",
      "text/plain": [
       "<Figure size 1152x576 with 1 Axes>"
      ]
     },
     "metadata": {
      "needs_background": "light",
      "tags": []
     },
     "output_type": "display_data"
    },
    {
     "data": {
      "text/html": [
       "Ridge Regression, with alpha=100.0"
      ],
      "text/plain": [
       "<IPython.core.display.HTML object>"
      ]
     },
     "metadata": {
      "tags": []
     },
     "output_type": "display_data"
    },
    {
     "data": {
      "image/png": "[encoded data removed]",
      "text/plain": [
       "<Figure size 1152x576 with 1 Axes>"
      ]
     },
     "metadata": {
      "needs_background": "light",
      "tags": []
     },
     "output_type": "display_data"
    }
   ],
   "source": [
    "from IPython.display import display, HTML\n",
    "import matplotlib.pyplot as plt\n",
    "for alpha in [0.001, 0.01, 0.1, 1.0, 10.0, 100.0]:\n",
    "  display(HTML(f'Ridge Regression, with alpha={alpha}'))\n",
    "  model2 = Ridge(alpha=alpha, normalize=True)\n",
    "  model2.fit(X_train_selected, Y_train)\n",
    "  y_pred = model.predict(X_test_selected)\n",
    "\n",
    "  coefficients = pd.Series(model.coef_, XT_train.columns)\n",
    "  plt.figure(figsize=(16,8))\n",
    "  coefficients.sort_values().plot.barh(color='green')\n",
    "  plt.xlim(-400,700)\n",
    "  plt.show()\n",
    "\n",
    "#I removed the nighboorhood column so I only have 6 coefficients.  What I conclude from the r^2 scores is that this model still is overfit.  More data is required before borough should is used.  The number one  train.plot.scatter(feature, target, alpha=0.05)plt.plot(X_test[feature], y_pred)\n"
   ]
  }
 ],
 "metadata": {
  "colab": {
   "collapsed_sections": [],
   "name": "LS_DS_213_solution.ipynb",
   "provenance": []
  },
  "kernelspec": {
   "display_name": "Python 3",
   "language": "python",
   "name": "python3"
  },
  "language_info": {
   "codemirror_mode": {
    "name": "ipython",
    "version": 3
   },
   "file_extension": ".py",
   "mimetype": "text/x-python",
   "name": "python",
   "nbconvert_exporter": "python",
   "pygments_lexer": "ipython3",
   "version": "3.9.5"
  }
 },
 "nbformat": 4,
 "nbformat_minor": 1
}

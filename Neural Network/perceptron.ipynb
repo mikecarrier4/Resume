{
 "cells": [
  {
   "cell_type": "code",
   "execution_count": 391,
   "id": "1bc6b1e0",
   "metadata": {},
   "outputs": [],
   "source": [
    "#sigmoid perceptron from scratch"
   ]
  },
  {
   "cell_type": "code",
   "execution_count": 392,
   "id": "b4d0a57f",
   "metadata": {},
   "outputs": [],
   "source": [
    "import numpy as np\n",
    "import random\n",
    "import math\n",
    "np.set_printoptions(suppress=True)"
   ]
  },
  {
   "cell_type": "code",
   "execution_count": 393,
   "id": "d96e475b",
   "metadata": {},
   "outputs": [],
   "source": [
    "class Neuron(object):\n",
    "    \"\"\"class that creates perceptrons with random arrays, random wieghts, and options for activation_funcs\"\"\"\n",
    "    def __init__(self, input_rows, input_cols, activaton_func, bias=0):\n",
    "        self.input_rows = input_rows\n",
    "        self.input_cols = input_cols\n",
    "        self.activation_func = input_rows\n",
    "        self.bias = bias\n",
    "    \n",
    "    def array_shape(self):\n",
    "        self.arr = np.random.rand(self.input_rows, self.input_cols)\n",
    "        self.wieghts = np.random.rand(self.input_cols)\n",
    "        return self.arr, self.wieghts #array and wieghts \n",
    "        \n",
    "    def sigmoid_func(self, threshold=0.5):\n",
    "        \"\"\"Calculates a matrix and vector product. Then puts results it in sigmoid function\"\"\"\n",
    "        self.threshold = threshold\n",
    "        self.cws = ((self.arr).dot(self.wieghts).sum())\n",
    "        self.sigfunc = (1/(1 + np.exp(-1 * (self.cws + self.bias))))#sigmoid func\n",
    "        if self.sigfunc >= self.threshold:\n",
    "            print('Neron Activated')\n",
    "            neruon = 1\n",
    "        else:\n",
    "            print('Neron Disabled')\n",
    "            neuron = 0\n",
    "        \n",
    "        \n",
    "            \n",
    "        \n",
    "    \n",
    "        \n",
    "        \n",
    "        \n",
    "        "
   ]
  },
  {
   "cell_type": "code",
   "execution_count": 394,
   "id": "1b4a1b7c",
   "metadata": {},
   "outputs": [],
   "source": [
    "a_Neuron = Neuron(4, 2, 'sigmoid')"
   ]
  },
  {
   "cell_type": "code",
   "execution_count": 395,
   "id": "9a60c42f",
   "metadata": {},
   "outputs": [
    {
     "data": {
      "text/plain": [
       "__main__.Neuron"
      ]
     },
     "execution_count": 395,
     "metadata": {},
     "output_type": "execute_result"
    }
   ],
   "source": [
    "type(a)"
   ]
  },
  {
   "cell_type": "code",
   "execution_count": 396,
   "id": "970e7c82",
   "metadata": {},
   "outputs": [
    {
     "name": "stdout",
     "output_type": "stream",
     "text": [
      "Neron Activated\n"
     ]
    }
   ],
   "source": [
    "z = a.sigmoid_func()"
   ]
  },
  {
   "cell_type": "code",
   "execution_count": null,
   "id": "6c7e2a47",
   "metadata": {},
   "outputs": [],
   "source": []
  }
 ],
 "metadata": {
  "kernelspec": {
   "display_name": "Python 3",
   "language": "python",
   "name": "python3"
  },
  "language_info": {
   "codemirror_mode": {
    "name": "ipython",
    "version": 3
   },
   "file_extension": ".py",
   "mimetype": "text/x-python",
   "name": "python",
   "nbconvert_exporter": "python",
   "pygments_lexer": "ipython3",
   "version": "3.9.5"
  }
 },
 "nbformat": 4,
 "nbformat_minor": 5
}

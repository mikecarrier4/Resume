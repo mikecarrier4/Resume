{
 "cells": [
  {
   "cell_type": "code",
   "execution_count": 1,
   "id": "795fba66",
   "metadata": {},
   "outputs": [],
   "source": [
    "#Keras & a sample of the Quickdraw dataset to build a sketch classification model. The dataset has been sampled to only 10 classes and 10000 observations per class."
   ]
  },
  {
   "cell_type": "code",
   "execution_count": 2,
   "id": "d66115bf",
   "metadata": {},
   "outputs": [],
   "source": [
    "import seaborn as sns\n",
    "import pandas as pd\n",
    "import numpy as np\n",
    "import tensorflow as tf \n",
    "import matplotlib.pyplot as plt\n",
    "from sklearn.utils import shuffle\n",
    "\n",
    "# use Sequential w/ Dense for single cell forward feeding NNet\n",
    "from tensorflow.keras.models import Sequential\n",
    "from tensorflow.keras.layers import Dense"
   ]
  },
  {
   "cell_type": "code",
   "execution_count": 3,
   "id": "759e9e70",
   "metadata": {},
   "outputs": [
    {
     "name": "stdout",
     "output_type": "stream",
     "text": [
      "(100000, 784)\n",
      "(100000,)\n"
     ]
    }
   ],
   "source": [
    "# load in data set\n",
    "data = np.load('../quickdraw10.npz')\n",
    "X = data['arr_0']\n",
    "y = data['arr_1']\n",
    "\n",
    "\n",
    "print(X.shape)\n",
    "print(y.shape)"
   ]
  },
  {
   "cell_type": "code",
   "execution_count": 4,
   "id": "33e375ef",
   "metadata": {},
   "outputs": [
    {
     "data": {
      "image/png": "[encoded data removed]",
      "text/plain": [
       "<Figure size 720x360 with 10 Axes>"
      ]
     },
     "metadata": {},
     "output_type": "display_data"
    }
   ],
   "source": [
    "class_names = ['apple',\n",
    "             'anvil',\n",
    "             'airplane',\n",
    "             'banana',\n",
    "             'The Eiffel Tower',\n",
    "             'The Mona Lisa',\n",
    "             'The Great Wall of China',\n",
    "             'alarm clock',\n",
    "             'ant',\n",
    "             'asparagus']\n",
    "\n",
    "\n",
    "plt.figure(figsize=(10,5))\n",
    "start = 0\n",
    "\n",
    "for num, name in enumerate(class_names):\n",
    "    plt.subplot(2,5, num+1)\n",
    "    plt.xticks([])\n",
    "    plt.yticks([])\n",
    "    plt.grid(False)\n",
    "    plt.imshow(X[start].reshape(28,28), cmap=plt.cm.binary)\n",
    "    plt.xlabel(name)\n",
    "    start += 10000\n",
    "plt.show()"
   ]
  },
  {
   "cell_type": "code",
   "execution_count": 5,
   "id": "e82336b4",
   "metadata": {},
   "outputs": [
    {
     "data": {
      "text/plain": [
       "(100000, 784)"
      ]
     },
     "execution_count": 5,
     "metadata": {},
     "output_type": "execute_result"
    }
   ],
   "source": [
    "#shuffle and shape confirm\n",
    "#28 * 28 Pixel = 784 \n",
    "X, y = shuffle(X, y)\n",
    "X.shape"
   ]
  },
  {
   "cell_type": "code",
   "execution_count": 6,
   "id": "d567bc18",
   "metadata": {},
   "outputs": [
    {
     "name": "stdout",
     "output_type": "stream",
     "text": [
      "784, dimensions of X input. 10, unique labels for classifier. 1.0, normalize max values\n"
     ]
    }
   ],
   "source": [
    "# get dim of image row vectors and save to imput_dim\n",
    "input_dim = X.shape[1]\n",
    "\n",
    "\n",
    "# get number of unique labels and save to n_output_nodels, 10\n",
    "n_output_nodels = len(np.unique(y))\n",
    "\n",
    "# normalize image data to values between 0 and 1 (by dividing by max pixel value)\n",
    "X_scaled = X / X.max()\n",
    "\n",
    "\n",
    "print(f'{input_dim}, dimensions of X input. {n_output_nodels}, unique labels for classifier. {X_scaled.max()}, normalize max values')\n",
    "\n"
   ]
  },
  {
   "cell_type": "code",
   "execution_count": 7,
   "id": "9b07e93b",
   "metadata": {},
   "outputs": [],
   "source": [
    "# instantiate a sequential object and call it model, then add layers to your model\n",
    "model = Sequential()\n",
    "\n",
    "#hidden layer\n",
    "model.add(Dense(500, activation=\"sigmoid\", input_dim=input_dim))\n",
    "model.add(Dense(250, activation=\"sigmoid\"))\n",
    "model.add(Dense(100, activation=\"sigmoid\"))\n",
    "model.add(Dense(n_output_nodels, activation=\"softmax\"))\n",
    "\n",
    "\n",
    "model.compile(optimizer='sgd', \n",
    "              loss='sparse_categorical_crossentropy', \n",
    "              metrics=['accuracy'])\n",
    "\n",
    "\n"
   ]
  },
  {
   "cell_type": "code",
   "execution_count": 8,
   "id": "bab9e9b9",
   "metadata": {},
   "outputs": [],
   "source": [
    "n_layers = len(model.get_config()[\"layers\"])\n",
    "assert n_layers == 5, \"You should have 5 layers: input, h1, h2, h3, and output\""
   ]
  },
  {
   "cell_type": "code",
   "execution_count": 9,
   "id": "2b16eff4",
   "metadata": {},
   "outputs": [
    {
     "name": "stdout",
     "output_type": "stream",
     "text": [
      "Model: \"sequential\"\n",
      "_________________________________________________________________\n",
      "Layer (type)                 Output Shape              Param #   \n",
      "=================================================================\n",
      "dense (Dense)                (None, 500)               392500    \n",
      "_________________________________________________________________\n",
      "dense_1 (Dense)              (None, 250)               125250    \n",
      "_________________________________________________________________\n",
      "dense_2 (Dense)              (None, 100)               25100     \n",
      "_________________________________________________________________\n",
      "dense_3 (Dense)              (None, 10)                1010      \n",
      "=================================================================\n",
      "Total params: 543,860\n",
      "Trainable params: 543,860\n",
      "Non-trainable params: 0\n",
      "_________________________________________________________________\n"
     ]
    }
   ],
   "source": [
    "model.summary()"
   ]
  },
  {
   "cell_type": "code",
   "execution_count": 10,
   "id": "fb4d5727",
   "metadata": {},
   "outputs": [],
   "source": [
    "epochs = 20"
   ]
  },
  {
   "cell_type": "code",
   "execution_count": 11,
   "id": "73c71461",
   "metadata": {},
   "outputs": [
    {
     "name": "stdout",
     "output_type": "stream",
     "text": [
      "Epoch 1/20\n",
      "2500/2500 [==============================] - 27s 10ms/step - loss: 2.2927 - accuracy: 0.1355 - val_loss: 2.2739 - val_accuracy: 0.3052\n",
      "Epoch 2/20\n",
      "2500/2500 [==============================] - 19s 8ms/step - loss: 2.2292 - accuracy: 0.2763 - val_loss: 2.1451 - val_accuracy: 0.2887\n",
      "Epoch 3/20\n",
      "2500/2500 [==============================] - 17s 7ms/step - loss: 1.9355 - accuracy: 0.4133 - val_loss: 1.7610 - val_accuracy: 0.5020\n",
      "Epoch 4/20\n",
      "2500/2500 [==============================] - 17s 7ms/step - loss: 1.5953 - accuracy: 0.5103 - val_loss: 1.4594 - val_accuracy: 0.5530\n",
      "Epoch 5/20\n",
      "2500/2500 [==============================] - 17s 7ms/step - loss: 1.3411 - accuracy: 0.5818 - val_loss: 1.2685 - val_accuracy: 0.6137\n",
      "Epoch 6/20\n",
      "2500/2500 [==============================] - 19s 7ms/step - loss: 1.1850 - accuracy: 0.6328 - val_loss: 1.1416 - val_accuracy: 0.6514\n",
      "Epoch 7/20\n",
      "2500/2500 [==============================] - 20s 8ms/step - loss: 1.0739 - accuracy: 0.6719 - val_loss: 1.0506 - val_accuracy: 0.6868\n",
      "Epoch 8/20\n",
      "2500/2500 [==============================] - 19s 8ms/step - loss: 1.0020 - accuracy: 0.6955 - val_loss: 0.9984 - val_accuracy: 0.6988\n",
      "Epoch 9/20\n",
      "2500/2500 [==============================] - 17s 7ms/step - loss: 0.9618 - accuracy: 0.7082 - val_loss: 0.9665 - val_accuracy: 0.7095\n",
      "Epoch 10/20\n",
      "2500/2500 [==============================] - 18s 7ms/step - loss: 0.9341 - accuracy: 0.7179 - val_loss: 0.9446 - val_accuracy: 0.7131\n",
      "Epoch 11/20\n",
      "2500/2500 [==============================] - 18s 7ms/step - loss: 0.9123 - accuracy: 0.7251 - val_loss: 0.9257 - val_accuracy: 0.7210\n",
      "Epoch 12/20\n",
      "2500/2500 [==============================] - 18s 7ms/step - loss: 0.8939 - accuracy: 0.7312 - val_loss: 0.9057 - val_accuracy: 0.7296\n",
      "Epoch 13/20\n",
      "2500/2500 [==============================] - 17s 7ms/step - loss: 0.8775 - accuracy: 0.7376 - val_loss: 0.8942 - val_accuracy: 0.7311\n",
      "Epoch 14/20\n",
      "2500/2500 [==============================] - 19s 8ms/step - loss: 0.8623 - accuracy: 0.7416 - val_loss: 0.8807 - val_accuracy: 0.7375\n",
      "Epoch 15/20\n",
      "2500/2500 [==============================] - 18s 7ms/step - loss: 0.8480 - accuracy: 0.7468 - val_loss: 0.8670 - val_accuracy: 0.7393\n",
      "Epoch 16/20\n",
      "2500/2500 [==============================] - 18s 7ms/step - loss: 0.8338 - accuracy: 0.7500 - val_loss: 0.8532 - val_accuracy: 0.7464\n",
      "Epoch 17/20\n",
      "2500/2500 [==============================] - 17s 7ms/step - loss: 0.8201 - accuracy: 0.7543 - val_loss: 0.8377 - val_accuracy: 0.7508\n",
      "Epoch 18/20\n",
      "2500/2500 [==============================] - 17s 7ms/step - loss: 0.8067 - accuracy: 0.7581 - val_loss: 0.8254 - val_accuracy: 0.7528\n",
      "Epoch 19/20\n",
      "2500/2500 [==============================] - 19s 7ms/step - loss: 0.7937 - accuracy: 0.7624 - val_loss: 0.8164 - val_accuracy: 0.7545\n",
      "Epoch 20/20\n",
      "2500/2500 [==============================] - 17s 7ms/step - loss: 0.7819 - accuracy: 0.7655 - val_loss: 0.8013 - val_accuracy: 0.7611\n"
     ]
    }
   ],
   "source": [
    "# fit  model and save training resuts to history \n",
    "history = model.fit(X_scaled, y, \n",
    "                    epochs=epochs, \n",
    "                    # test set will be generated within the model\n",
    "                    validation_split=0.2\n",
    "                   )"
   ]
  },
  {
   "cell_type": "code",
   "execution_count": 15,
   "id": "1b89fcf2",
   "metadata": {},
   "outputs": [
    {
     "data": {
      "text/html": [
       "<div>\n",
       "<style scoped>\n",
       "    .dataframe tbody tr th:only-of-type {\n",
       "        vertical-align: middle;\n",
       "    }\n",
       "\n",
       "    .dataframe tbody tr th {\n",
       "        vertical-align: top;\n",
       "    }\n",
       "\n",
       "    .dataframe thead th {\n",
       "        text-align: right;\n",
       "    }\n",
       "</style>\n",
       "<table border=\"1\" class=\"dataframe\">\n",
       "  <thead>\n",
       "    <tr style=\"text-align: right;\">\n",
       "      <th></th>\n",
       "      <th>loss</th>\n",
       "      <th>accuracy</th>\n",
       "      <th>val_loss</th>\n",
       "      <th>val_accuracy</th>\n",
       "    </tr>\n",
       "  </thead>\n",
       "  <tbody>\n",
       "    <tr>\n",
       "      <th>0</th>\n",
       "      <td>2.292694</td>\n",
       "      <td>0.135475</td>\n",
       "      <td>2.273905</td>\n",
       "      <td>0.30520</td>\n",
       "    </tr>\n",
       "    <tr>\n",
       "      <th>1</th>\n",
       "      <td>2.229227</td>\n",
       "      <td>0.276338</td>\n",
       "      <td>2.145108</td>\n",
       "      <td>0.28870</td>\n",
       "    </tr>\n",
       "    <tr>\n",
       "      <th>2</th>\n",
       "      <td>1.935526</td>\n",
       "      <td>0.413312</td>\n",
       "      <td>1.761034</td>\n",
       "      <td>0.50205</td>\n",
       "    </tr>\n",
       "    <tr>\n",
       "      <th>3</th>\n",
       "      <td>1.595271</td>\n",
       "      <td>0.510350</td>\n",
       "      <td>1.459358</td>\n",
       "      <td>0.55305</td>\n",
       "    </tr>\n",
       "    <tr>\n",
       "      <th>4</th>\n",
       "      <td>1.341119</td>\n",
       "      <td>0.581762</td>\n",
       "      <td>1.268467</td>\n",
       "      <td>0.61370</td>\n",
       "    </tr>\n",
       "  </tbody>\n",
       "</table>\n",
       "</div>"
      ],
      "text/plain": [
       "       loss  accuracy  val_loss  val_accuracy\n",
       "0  2.292694  0.135475  2.273905       0.30520\n",
       "1  2.229227  0.276338  2.145108       0.28870\n",
       "2  1.935526  0.413312  1.761034       0.50205\n",
       "3  1.595271  0.510350  1.459358       0.55305\n",
       "4  1.341119  0.581762  1.268467       0.61370"
      ]
     },
     "execution_count": 15,
     "metadata": {},
     "output_type": "execute_result"
    }
   ],
   "source": [
    "#Now to Visualize NN\n",
    "df = pd.DataFrame(history.history) \n",
    "epochs = list(range(0, df.shape[0]))\n",
    "df.head()"
   ]
  },
  {
   "cell_type": "code",
   "execution_count": 14,
   "id": "0d95295b",
   "metadata": {},
   "outputs": [
    {
     "data": {
      "text/plain": [
       "[Text(0.5, 0, 'epochs'), Text(0, 0.5, 'Accuracy')]"
      ]
     },
     "execution_count": 14,
     "metadata": {},
     "output_type": "execute_result"
    },
    {
     "data": {
      "image/png": "[encoded data removed]",
      "text/plain": [
       "<Figure size 432x288 with 1 Axes>"
      ]
     },
     "metadata": {
      "needs_background": "light"
     },
     "output_type": "display_data"
    }
   ],
   "source": [
    "ax = sns.lineplot(data=df, x=epochs, y=\"val_accuracy\")\n",
    "ax = sns.lineplot(data=df, x=epochs, y=\"accuracy\")\n",
    "ax.set(xlabel='epochs', ylabel='Accuracy')\n"
   ]
  },
  {
   "cell_type": "code",
   "execution_count": 16,
   "id": "162a764f",
   "metadata": {},
   "outputs": [
    {
     "data": {
      "text/plain": [
       "[Text(0.5, 0, 'epochs'), Text(0, 0.5, 'loss')]"
      ]
     },
     "execution_count": 16,
     "metadata": {},
     "output_type": "execute_result"
    },
    {
     "data": {
      "image/png": "[encoded data removed]",
      "text/plain": [
       "<Figure size 432x288 with 1 Axes>"
      ]
     },
     "metadata": {
      "needs_background": "light"
     },
     "output_type": "display_data"
    }
   ],
   "source": [
    "loss = sns.lineplot(data=df, x=epochs, y=\"loss\")\n",
    "loss.set(xlabel='epochs', ylabel='loss')"
   ]
  },
  {
   "cell_type": "code",
   "execution_count": 17,
   "id": "be53f753",
   "metadata": {},
   "outputs": [],
   "source": [
    "# attempt to get better performance with different optimizer ADAM"
   ]
  },
  {
   "cell_type": "code",
   "execution_count": 19,
   "id": "54f508ff",
   "metadata": {},
   "outputs": [
    {
     "name": "stdout",
     "output_type": "stream",
     "text": [
      "Epoch 1/20\n",
      "2500/2500 [==============================] - 21s 8ms/step - loss: 0.7547 - accuracy: 0.7645 - val_loss: 0.5720 - val_accuracy: 0.8255\n",
      "Epoch 2/20\n",
      "2500/2500 [==============================] - 20s 8ms/step - loss: 0.4951 - accuracy: 0.8487 - val_loss: 0.4931 - val_accuracy: 0.8476\n",
      "Epoch 3/20\n",
      "2500/2500 [==============================] - 19s 8ms/step - loss: 0.4148 - accuracy: 0.8731 - val_loss: 0.4370 - val_accuracy: 0.8652\n",
      "Epoch 4/20\n",
      "2500/2500 [==============================] - 19s 8ms/step - loss: 0.3555 - accuracy: 0.8922 - val_loss: 0.4299 - val_accuracy: 0.8684\n",
      "Epoch 5/20\n",
      "2500/2500 [==============================] - 20s 8ms/step - loss: 0.3090 - accuracy: 0.9063 - val_loss: 0.4357 - val_accuracy: 0.8705\n",
      "Epoch 6/20\n",
      "2500/2500 [==============================] - 19s 8ms/step - loss: 0.2719 - accuracy: 0.9178 - val_loss: 0.4217 - val_accuracy: 0.8774\n",
      "Epoch 7/20\n",
      "2500/2500 [==============================] - 20s 8ms/step - loss: 0.2386 - accuracy: 0.9275 - val_loss: 0.4270 - val_accuracy: 0.8784\n",
      "Epoch 8/20\n",
      "2500/2500 [==============================] - 20s 8ms/step - loss: 0.2064 - accuracy: 0.9374 - val_loss: 0.4440 - val_accuracy: 0.8807\n",
      "Epoch 9/20\n",
      "2500/2500 [==============================] - 19s 8ms/step - loss: 0.1795 - accuracy: 0.9459 - val_loss: 0.4535 - val_accuracy: 0.8760\n",
      "Epoch 10/20\n",
      "2500/2500 [==============================] - 20s 8ms/step - loss: 0.1556 - accuracy: 0.9526 - val_loss: 0.4647 - val_accuracy: 0.8820\n",
      "Epoch 11/20\n",
      "2500/2500 [==============================] - 21s 9ms/step - loss: 0.1364 - accuracy: 0.9585 - val_loss: 0.5000 - val_accuracy: 0.8777\n",
      "Epoch 12/20\n",
      "2500/2500 [==============================] - 21s 8ms/step - loss: 0.1168 - accuracy: 0.9643 - val_loss: 0.5425 - val_accuracy: 0.8779\n",
      "Epoch 13/20\n",
      "2500/2500 [==============================] - 21s 8ms/step - loss: 0.1045 - accuracy: 0.9687 - val_loss: 0.5846 - val_accuracy: 0.8750\n",
      "Epoch 14/20\n",
      "2500/2500 [==============================] - 20s 8ms/step - loss: 0.0914 - accuracy: 0.9717 - val_loss: 0.6329 - val_accuracy: 0.8745\n",
      "Epoch 15/20\n",
      "2500/2500 [==============================] - 20s 8ms/step - loss: 0.0802 - accuracy: 0.9760 - val_loss: 0.6170 - val_accuracy: 0.8776\n",
      "Epoch 16/20\n",
      "2500/2500 [==============================] - 21s 8ms/step - loss: 0.0732 - accuracy: 0.9774 - val_loss: 0.6648 - val_accuracy: 0.8769\n",
      "Epoch 17/20\n",
      "2500/2500 [==============================] - 21s 8ms/step - loss: 0.0647 - accuracy: 0.9796 - val_loss: 0.7265 - val_accuracy: 0.8674\n",
      "Epoch 18/20\n",
      "2500/2500 [==============================] - 21s 8ms/step - loss: 0.0605 - accuracy: 0.9813 - val_loss: 0.6812 - val_accuracy: 0.8759\n",
      "Epoch 19/20\n",
      "2500/2500 [==============================] - 20s 8ms/step - loss: 0.0526 - accuracy: 0.9838 - val_loss: 0.7374 - val_accuracy: 0.8724\n",
      "Epoch 20/20\n",
      "2500/2500 [==============================] - 20s 8ms/step - loss: 0.0492 - accuracy: 0.9848 - val_loss: 0.7569 - val_accuracy: 0.8687\n"
     ]
    }
   ],
   "source": [
    "# train same model as above but use sgd if you used adam previously ( or use adam if you used sgd previously)\n",
    "\n",
    "# YOUR CODE HERE\n",
    "# instantiate a sequential object and call it model, then add layers to your model\n",
    "model = Sequential()\n",
    "\n",
    "#hidden layer\n",
    "model.add(Dense(500, activation=\"sigmoid\", input_dim=input_dim))\n",
    "model.add(Dense(250, activation=\"sigmoid\"))\n",
    "model.add(Dense(100, activation=\"sigmoid\"))\n",
    "model.add(Dense(n_output_nodels, activation=\"softmax\"))\n",
    "\n",
    "# add a compile layer but don't fit your model yet \n",
    "model.compile(optimizer='adam', \n",
    "              loss='sparse_categorical_crossentropy', \n",
    "              metrics=['accuracy'])\n",
    "\n",
    "# fit your model and save training resuts to history \n",
    "history = model.fit(X_scaled, y, \n",
    "                    epochs=20, \n",
    "                    # test set will be generated within the model\n",
    "                    validation_split=0.2\n",
    "                   )"
   ]
  },
  {
   "cell_type": "code",
   "execution_count": 20,
   "id": "fbe25424",
   "metadata": {
    "scrolled": false
   },
   "outputs": [],
   "source": [
    "# a check that the correct optimizer in this model\n",
    "opt_name = model.optimizer.get_config()[\"name\"]\n",
    "assert opt_name == \"Adam\", \"use adam for the optimizer in this model.\""
   ]
  },
  {
   "cell_type": "code",
   "execution_count": 21,
   "id": "09cea58d",
   "metadata": {},
   "outputs": [
    {
     "data": {
      "text/plain": [
       "[Text(0.5, 0, 'epochs'), Text(0, 0.5, 'Accuracy')]"
      ]
     },
     "execution_count": 21,
     "metadata": {},
     "output_type": "execute_result"
    },
    {
     "data": {
      "image/png": "[encoded data removed]",
      "text/plain": [
       "<Figure size 432x288 with 1 Axes>"
      ]
     },
     "metadata": {
      "needs_background": "light"
     },
     "output_type": "display_data"
    }
   ],
   "source": [
    "# YOUR CODE HERE\n",
    "\n",
    "df2 = pd.DataFrame(history.history) \n",
    "epochs = list(range(0, df.shape[0]))\n",
    "\n",
    "ax = sns.lineplot(data=df2, x=epochs, y=\"val_accuracy\")\n",
    "ax = sns.lineplot(data=df2, x=epochs, y=\"accuracy\")\n",
    "ax.set(xlabel='epochs', ylabel='Accuracy')\n",
    "\n",
    "\n"
   ]
  },
  {
   "cell_type": "code",
   "execution_count": null,
   "id": "ca935678",
   "metadata": {},
   "outputs": [],
   "source": []
  }
 ],
 "metadata": {
  "kernelspec": {
   "display_name": "Python 3",
   "language": "python",
   "name": "python3"
  },
  "language_info": {
   "codemirror_mode": {
    "name": "ipython",
    "version": 3
   },
   "file_extension": ".py",
   "mimetype": "text/x-python",
   "name": "python",
   "nbconvert_exporter": "python",
   "pygments_lexer": "ipython3",
   "version": "3.9.5"
  }
 },
 "nbformat": 4,
 "nbformat_minor": 5
}

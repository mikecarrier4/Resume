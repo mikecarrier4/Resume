{
 "cells": [
  {
   "cell_type": "code",
   "execution_count": 1,
   "id": "b5b128af-c29d-4433-80bd-0af5b3ed9819",
   "metadata": {},
   "outputs": [],
   "source": [
    "\"\"\"OpenAQ Air Quality Dashboard with Flask.\"\"\"\n",
    "from flask import Flask\n",
    "from flask_sqlalchemy import SQLAlchemy\n",
    "import requests\n",
    "import openaq\n",
    "import dateutil"
   ]
  },
  {
   "cell_type": "code",
   "execution_count": 2,
   "id": "bdaf7ca2-a550-4e46-b315-41c3398180c2",
   "metadata": {},
   "outputs": [],
   "source": [
    " api = openaq.OpenAQ()"
   ]
  },
  {
   "cell_type": "code",
   "execution_count": 3,
   "id": "4f9f9a9e-70ae-4b03-a91f-5095e579415b",
   "metadata": {},
   "outputs": [
    {
     "data": {
      "text/plain": [
       "OpenAQ API"
      ]
     },
     "execution_count": 3,
     "metadata": {},
     "output_type": "execute_result"
    }
   ],
   "source": [
    "api\n"
   ]
  },
  {
   "cell_type": "code",
   "execution_count": 6,
   "id": "26696c4e-f491-4b2d-acb4-68912426ac90",
   "metadata": {},
   "outputs": [
    {
     "name": "stdout",
     "output_type": "stream",
     "text": [
      "Index(['location', 'parameter', 'value', 'unit', 'country', 'city', 'date.utc',\n",
      "       'coordinates.latitude', 'coordinates.longitude'],\n",
      "      dtype='object')\n"
     ]
    }
   ],
   "source": [
    "results = api.measurements(city='Los Angeles', parameter='pm25', df=True) #using a df for easier manipulation\n",
    "print(results.columns)\n",
    "#display = results[['value']].copy()\n",
    "    "
   ]
  },
  {
   "cell_type": "code",
   "execution_count": 14,
   "id": "c8521795-594d-4192-869a-7c7c0847ba20",
   "metadata": {},
   "outputs": [],
   "source": [
    "a = results.index[1]"
   ]
  },
  {
   "cell_type": "code",
   "execution_count": 15,
   "id": "17b8cad6-0f54-477b-b8cc-3796a6951332",
   "metadata": {},
   "outputs": [
    {
     "data": {
      "text/plain": [
       "Timestamp('2021-05-20 23:00:00')"
      ]
     },
     "execution_count": 15,
     "metadata": {},
     "output_type": "execute_result"
    }
   ],
   "source": [
    "a"
   ]
  },
  {
   "cell_type": "code",
   "execution_count": 25,
   "id": "e148c2eb-9dd5-4e23-a5f8-44ceda0abb30",
   "metadata": {},
   "outputs": [],
   "source": [
    "a = results[['city', 'value']]"
   ]
  },
  {
   "cell_type": "code",
   "execution_count": 29,
   "id": "3aaf730e-b4f9-40a4-9b27-57f900886912",
   "metadata": {},
   "outputs": [
    {
     "data": {
      "text/html": [
       "<div>\n",
       "<style scoped>\n",
       "    .dataframe tbody tr th:only-of-type {\n",
       "        vertical-align: middle;\n",
       "    }\n",
       "\n",
       "    .dataframe tbody tr th {\n",
       "        vertical-align: top;\n",
       "    }\n",
       "\n",
       "    .dataframe thead th {\n",
       "        text-align: right;\n",
       "    }\n",
       "</style>\n",
       "<table border=\"1\" class=\"dataframe\">\n",
       "  <thead>\n",
       "    <tr style=\"text-align: right;\">\n",
       "      <th></th>\n",
       "      <th>date.local</th>\n",
       "      <th>city</th>\n",
       "      <th>value</th>\n",
       "    </tr>\n",
       "  </thead>\n",
       "  <tbody>\n",
       "    <tr>\n",
       "      <th>0</th>\n",
       "      <td>2021-05-20 23:00:00</td>\n",
       "      <td>Los Angeles</td>\n",
       "      <td>68</td>\n",
       "    </tr>\n",
       "    <tr>\n",
       "      <th>1</th>\n",
       "      <td>2021-05-20 23:00:00</td>\n",
       "      <td>Los Angeles</td>\n",
       "      <td>34</td>\n",
       "    </tr>\n",
       "    <tr>\n",
       "      <th>2</th>\n",
       "      <td>2021-05-20 12:00:00</td>\n",
       "      <td>Los Angeles</td>\n",
       "      <td>53</td>\n",
       "    </tr>\n",
       "    <tr>\n",
       "      <th>3</th>\n",
       "      <td>2021-05-20 12:00:00</td>\n",
       "      <td>Los Angeles</td>\n",
       "      <td>7</td>\n",
       "    </tr>\n",
       "    <tr>\n",
       "      <th>4</th>\n",
       "      <td>2021-05-20 11:00:00</td>\n",
       "      <td>Los Angeles</td>\n",
       "      <td>16</td>\n",
       "    </tr>\n",
       "    <tr>\n",
       "      <th>...</th>\n",
       "      <td>...</td>\n",
       "      <td>...</td>\n",
       "      <td>...</td>\n",
       "    </tr>\n",
       "    <tr>\n",
       "      <th>102</th>\n",
       "      <td>2021-05-16 04:00:00</td>\n",
       "      <td>Los Angeles</td>\n",
       "      <td>12</td>\n",
       "    </tr>\n",
       "    <tr>\n",
       "      <th>103</th>\n",
       "      <td>2021-05-16 02:00:00</td>\n",
       "      <td>Los Angeles</td>\n",
       "      <td>69</td>\n",
       "    </tr>\n",
       "    <tr>\n",
       "      <th>104</th>\n",
       "      <td>2021-05-16 02:00:00</td>\n",
       "      <td>Los Angeles</td>\n",
       "      <td>47</td>\n",
       "    </tr>\n",
       "    <tr>\n",
       "      <th>105</th>\n",
       "      <td>2021-05-16 01:00:00</td>\n",
       "      <td>Los Angeles</td>\n",
       "      <td>49</td>\n",
       "    </tr>\n",
       "    <tr>\n",
       "      <th>106</th>\n",
       "      <td>2021-05-16 01:00:00</td>\n",
       "      <td>Los Angeles</td>\n",
       "      <td>80</td>\n",
       "    </tr>\n",
       "  </tbody>\n",
       "</table>\n",
       "<p>107 rows × 3 columns</p>\n",
       "</div>"
      ],
      "text/plain": [
       "             date.local         city  value\n",
       "0   2021-05-20 23:00:00  Los Angeles     68\n",
       "1   2021-05-20 23:00:00  Los Angeles     34\n",
       "2   2021-05-20 12:00:00  Los Angeles     53\n",
       "3   2021-05-20 12:00:00  Los Angeles      7\n",
       "4   2021-05-20 11:00:00  Los Angeles     16\n",
       "..                  ...          ...    ...\n",
       "102 2021-05-16 04:00:00  Los Angeles     12\n",
       "103 2021-05-16 02:00:00  Los Angeles     69\n",
       "104 2021-05-16 02:00:00  Los Angeles     47\n",
       "105 2021-05-16 01:00:00  Los Angeles     49\n",
       "106 2021-05-16 01:00:00  Los Angeles     80\n",
       "\n",
       "[107 rows x 3 columns]"
      ]
     },
     "execution_count": 29,
     "metadata": {},
     "output_type": "execute_result"
    }
   ],
   "source": [
    "a.reset_index(level=0, inplace=True)\n",
    "a"
   ]
  },
  {
   "cell_type": "code",
   "execution_count": 57,
   "id": "5d63f29b-762e-45a5-824c-a4a98e61837e",
   "metadata": {},
   "outputs": [
    {
     "data": {
      "text/plain": [
       "Timestamp('2021-05-20 23:00:00')"
      ]
     },
     "execution_count": 57,
     "metadata": {},
     "output_type": "execute_result"
    }
   ],
   "source": [
    "a.iloc[0, 0]\n"
   ]
  },
  {
   "cell_type": "code",
   "execution_count": null,
   "id": "e3c58a2e-48da-4c61-ba31-07531dbca449",
   "metadata": {},
   "outputs": [],
   "source": []
  },
  {
   "cell_type": "code",
   "execution_count": null,
   "id": "7634fdea-cbd4-4c5b-88f4-f202477de9d6",
   "metadata": {},
   "outputs": [],
   "source": []
  }
 ],
 "metadata": {
  "kernelspec": {
   "display_name": "Python 3",
   "language": "python",
   "name": "python3"
  },
  "language_info": {
   "codemirror_mode": {
    "name": "ipython",
    "version": 3
   },
   "file_extension": ".py",
   "mimetype": "text/x-python",
   "name": "python",
   "nbconvert_exporter": "python",
   "pygments_lexer": "ipython3",
   "version": "3.9.5"
  }
 },
 "nbformat": 4,
 "nbformat_minor": 5
}

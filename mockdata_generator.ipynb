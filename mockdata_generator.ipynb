{
 "cells": [
  {
   "cell_type": "code",
   "execution_count": 211,
   "id": "14bb0cb0",
   "metadata": {},
   "outputs": [
    {
     "name": "stdout",
     "output_type": "stream",
     "text": [
      "Requirement already satisfied: Fortuna in /Library/Frameworks/Python.framework/Versions/3.9/lib/python3.9/site-packages (4.2.0)\n",
      "\u001b[33mWARNING: You are using pip version 21.1.1; however, version 21.2.4 is available.\n",
      "You should consider upgrading via the '/usr/local/bin/python -m pip install --upgrade pip' command.\u001b[0m\n"
     ]
    }
   ],
   "source": [
    "!pip install Fortuna"
   ]
  },
  {
   "cell_type": "code",
   "execution_count": 212,
   "id": "df6c32fd",
   "metadata": {},
   "outputs": [
    {
     "name": "stdout",
     "output_type": "stream",
     "text": [
      "Requirement already satisfied: MonkeyScope in /Library/Frameworks/Python.framework/Versions/3.9/lib/python3.9/site-packages (1.3.4)\n",
      "\u001b[33mWARNING: You are using pip version 21.1.1; however, version 21.2.4 is available.\n",
      "You should consider upgrading via the '/usr/local/bin/python -m pip install --upgrade pip' command.\u001b[0m\n"
     ]
    }
   ],
   "source": [
    "!pip install MonkeyScope"
   ]
  },
  {
   "cell_type": "markdown",
   "id": "5f2f0154",
   "metadata": {},
   "source": [
    "Mock Data Set Assuptions\n",
    "-college\n",
    "-sex\n",
    "-age\n",
    "-degree\n",
    "-field\n",
    "-act-score\n",
    "\n",
    "\n",
    "\n"
   ]
  },
  {
   "cell_type": "code",
   "execution_count": 213,
   "id": "2af723f7",
   "metadata": {},
   "outputs": [],
   "source": [
    "from Fortuna import random_int, percent_true"
   ]
  },
  {
   "cell_type": "code",
   "execution_count": 214,
   "id": "f6931f09",
   "metadata": {},
   "outputs": [],
   "source": [
    "random_college = lambda: \"Private\" if percent_true(32) else \"Public\""
   ]
  },
  {
   "cell_type": "code",
   "execution_count": 215,
   "id": "00ec3061",
   "metadata": {},
   "outputs": [
    {
     "data": {
      "text/plain": [
       "'Private'"
      ]
     },
     "execution_count": 215,
     "metadata": {},
     "output_type": "execute_result"
    }
   ],
   "source": [
    "random_college()"
   ]
  },
  {
   "cell_type": "code",
   "execution_count": 216,
   "id": "e228f29f",
   "metadata": {},
   "outputs": [],
   "source": [
    "from MonkeyScope import distribution"
   ]
  },
  {
   "cell_type": "code",
   "execution_count": 217,
   "id": "ba04c8f1",
   "metadata": {},
   "outputs": [
    {
     "name": "stdout",
     "output_type": "stream",
     "text": [
      "Distribution of 1000000 samples:\n",
      " Private: 31.9963%\n",
      " Public: 68.0037%\n"
     ]
    }
   ],
   "source": [
    "distribution(random_college)"
   ]
  },
  {
   "cell_type": "code",
   "execution_count": 218,
   "id": "f333a688",
   "metadata": {},
   "outputs": [],
   "source": [
    "random_gender = lambda: \"Male\" if percent_true(40) else \"Female\" if percent_true (98) else \"Non-binary\""
   ]
  },
  {
   "cell_type": "code",
   "execution_count": 219,
   "id": "08fcba02",
   "metadata": {},
   "outputs": [
    {
     "name": "stdout",
     "output_type": "stream",
     "text": [
      "Distribution of 1000000 samples:\n",
      " Female: 58.7981%\n",
      " Male: 39.9795%\n",
      " Non-binary: 1.2224%\n"
     ]
    }
   ],
   "source": [
    "distribution(random_gender)"
   ]
  },
  {
   "cell_type": "code",
   "execution_count": 220,
   "id": "7f0126fd",
   "metadata": {},
   "outputs": [],
   "source": [
    "random_field = lambda: \"Bussiness\" if percent_true(30) else \"Computer Science\" if percent_true (20) else \"Liberal Arts\" if percent_true(70) else \"Math/Science\""
   ]
  },
  {
   "cell_type": "code",
   "execution_count": 221,
   "id": "a58ab88e",
   "metadata": {},
   "outputs": [
    {
     "name": "stdout",
     "output_type": "stream",
     "text": [
      "Distribution of 1000000 samples:\n",
      " Bussiness: 29.9539%\n",
      " Computer Science: 13.9751%\n",
      " Liberal Arts: 39.2144%\n",
      " Math/Science: 16.8566%\n"
     ]
    }
   ],
   "source": [
    "distribution(random_field)"
   ]
  },
  {
   "cell_type": "code",
   "execution_count": 222,
   "id": "b9633dd7",
   "metadata": {},
   "outputs": [],
   "source": [
    "random_degree = lambda: \"Bachelors/Associates\" if percent_true(80) else \"Masters/Phd\""
   ]
  },
  {
   "cell_type": "code",
   "execution_count": 223,
   "id": "5aa84f6e",
   "metadata": {},
   "outputs": [
    {
     "name": "stdout",
     "output_type": "stream",
     "text": [
      "Distribution of 1000000 samples:\n",
      " Bachelors/Associates: 79.9614%\n",
      " Masters/Phd: 20.0386%\n"
     ]
    }
   ],
   "source": [
    "distribution(random_degree)"
   ]
  },
  {
   "cell_type": "code",
   "execution_count": 224,
   "id": "0bc9adf4",
   "metadata": {},
   "outputs": [],
   "source": [
    "from Fortuna import front_poisson, RandomValue, middle_gauss"
   ]
  },
  {
   "cell_type": "code",
   "execution_count": 225,
   "id": "846c5cce",
   "metadata": {},
   "outputs": [
    {
     "name": "stdout",
     "output_type": "stream",
     "text": [
      "Statistics of 1000 samples:\n",
      " Minimum: 0\n",
      " Median: 5\n",
      " Maximum: 13\n",
      " Mean: 4.978\n",
      " Std Deviation: 2.2263136509648573\n",
      "Distribution of 1000000 samples:\n",
      " 0: 0.6615%\n",
      " 1: 3.332%\n",
      " 2: 8.3964%\n",
      " 3: 14.0282%\n",
      " 4: 17.5439%\n",
      " 5: 17.61%\n",
      " 6: 14.6045%\n",
      " 7: 10.4957%\n",
      " 8: 6.4951%\n",
      " 9: 3.6407%\n",
      " 10: 1.8031%\n",
      " 11: 0.8333%\n",
      " 12: 0.3487%\n",
      " 13: 0.1366%\n",
      " 14: 0.0479%\n",
      " 15: 0.0151%\n",
      " 16: 0.005%\n",
      " 17: 0.0017%\n",
      " 18: 0.0006%\n"
     ]
    }
   ],
   "source": [
    "distribution(front_poisson, 20)"
   ]
  },
  {
   "cell_type": "code",
   "execution_count": 226,
   "id": "dc4d58e3",
   "metadata": {},
   "outputs": [],
   "source": [
    "random_age = RandomValue(range(16, 65), front_poisson)"
   ]
  },
  {
   "cell_type": "code",
   "execution_count": 227,
   "id": "0a47d21e",
   "metadata": {},
   "outputs": [
    {
     "data": {
      "text/plain": [
       "26"
      ]
     },
     "execution_count": 227,
     "metadata": {},
     "output_type": "execute_result"
    }
   ],
   "source": [
    "random_age()"
   ]
  },
  {
   "cell_type": "code",
   "execution_count": 228,
   "id": "04c2d4a9",
   "metadata": {},
   "outputs": [
    {
     "name": "stdout",
     "output_type": "stream",
     "text": [
      "Statistics of 1000 samples:\n",
      " Minimum: 19\n",
      " Median: 28\n",
      " Maximum: 42\n",
      " Mean: 28.331\n",
      " Std Deviation: 3.636022505384099\n",
      "Distribution of 1000000 samples:\n",
      " 16: 0.0002%\n",
      " 17: 0.0074%\n",
      " 18: 0.0372%\n",
      " 19: 0.1502%\n",
      " 20: 0.4483%\n",
      " 21: 1.1043%\n",
      " 22: 2.2258%\n",
      " 23: 3.8991%\n",
      " 24: 6.0315%\n",
      " 25: 8.1826%\n",
      " 26: 10.0577%\n",
      " 27: 11.1542%\n",
      " 28: 11.4244%\n",
      " 29: 10.7597%\n",
      " 30: 9.3797%\n",
      " 31: 7.6721%\n",
      " 32: 5.8696%\n",
      " 33: 4.2661%\n",
      " 34: 2.881%\n",
      " 35: 1.8562%\n",
      " 36: 1.1652%\n",
      " 37: 0.6671%\n",
      " 38: 0.3678%\n",
      " 39: 0.1968%\n",
      " 40: 0.1022%\n",
      " 41: 0.0542%\n",
      " 42: 0.0212%\n",
      " 43: 0.0098%\n",
      " 44: 0.0053%\n",
      " 45: 0.0018%\n",
      " 46: 0.0009%\n",
      " 47: 0.0004%\n"
     ]
    }
   ],
   "source": [
    "distribution(random_age)"
   ]
  },
  {
   "cell_type": "code",
   "execution_count": 229,
   "id": "434e814f",
   "metadata": {},
   "outputs": [],
   "source": [
    "random_act = RandomValue(range(15,36), middle_gauss)"
   ]
  },
  {
   "cell_type": "code",
   "execution_count": 230,
   "id": "4a0248b2",
   "metadata": {},
   "outputs": [
    {
     "name": "stdout",
     "output_type": "stream",
     "text": [
      "Statistics of 1000 samples:\n",
      " Minimum: 18\n",
      " Median: 25\n",
      " Maximum: 31\n",
      " Mean: 24.928\n",
      " Std Deviation: 2.0319805473834993\n",
      "Distribution of 1000000 samples:\n",
      " 15: 0.0005%\n",
      " 16: 0.003%\n",
      " 17: 0.0156%\n",
      " 18: 0.0815%\n",
      " 19: 0.3391%\n",
      " 20: 1.158%\n",
      " 21: 3.1826%\n",
      " 22: 6.9345%\n",
      " 23: 12.0824%\n",
      " 24: 16.8122%\n",
      " 25: 18.8791%\n",
      " 26: 16.8384%\n",
      " 27: 12.0178%\n",
      " 28: 6.8846%\n",
      " 29: 3.1672%\n",
      " 30: 1.1626%\n",
      " 31: 0.3369%\n",
      " 32: 0.0837%\n",
      " 33: 0.0182%\n",
      " 34: 0.002%\n",
      " 35: 0.0001%\n"
     ]
    }
   ],
   "source": [
    "distribution(random_act)"
   ]
  },
  {
   "cell_type": "code",
   "execution_count": 231,
   "id": "5f3f2e42",
   "metadata": {},
   "outputs": [],
   "source": [
    "    random_sex = CumulativeWeightedChoice((\n",
    "    (38, \"Male\"),\n",
    "    (100, \"Female\")\n",
    "    ))"
   ]
  },
  {
   "cell_type": "code",
   "execution_count": 232,
   "id": "8f8f6c4d",
   "metadata": {},
   "outputs": [],
   "source": [
    "from Fortuna import CumulativeWeightedChoice, RelativeWeightedChoice"
   ]
  },
  {
   "cell_type": "code",
   "execution_count": 233,
   "id": "fd491973",
   "metadata": {},
   "outputs": [],
   "source": [
    "class RandomUser:\n",
    "    random_age = RandomValue(\n",
    "        range(18, 65),\n",
    "        front_poisson\n",
    "    )\n",
    "    \n",
    "    random_sex = CumulativeWeightedChoice((\n",
    "    (38, \"Male\"),\n",
    "    (98, \"Female\"),\n",
    "    (100, \"Non-Binary\"),\n",
    "    ))\n",
    "    \n",
    "    random_college = CumulativeWeightedChoice((\n",
    "    (20, \"Private\"),\n",
    "    (100, \"Public\"),\n",
    "    ))\n",
    "\n",
    "\n",
    "    random_act = RandomValue(\n",
    "        range(15, 36), middle_gauss)\n",
    "    \n",
    "    random_degree = RelativeWeightedChoice((\n",
    "        (85, \"Bachelors/Associates\"),\n",
    "        (15, \"Masters/Phd\")\n",
    "    ))\n",
    "    \n",
    "    random_field = RelativeWeightedChoice((\n",
    "        (32, \"Bussiness\"),\n",
    "        (19, \"ComputerScience\"),\n",
    "        (35, \"LiberalArts/Education\"),\n",
    "        (14, \"Math/Science\")\n",
    "    ))\n",
    "    \n",
    "    def __init__ (self):\n",
    "        self.age = self.random_age()\n",
    "        self.sex = self.random_sex()\n",
    "        self.act = self.random_act()\n",
    "        self.college = self.random_college()\n",
    "        self.degree = self.random_degree()\n",
    "        self.field = self.random_field()\n",
    "        \n",
    "    def __repr__(self):\n",
    "        output = (\n",
    "        f\"AGE: {self.age}\",\n",
    "        f\"SEX: {self.sex}\",\n",
    "        f\"COLLEGE: {self.college}\",\n",
    "        f\"ACT_SCORE: {self.act}\",\n",
    "        f\"DEGREE & FIELD: {self.degree} {self.field}\"\n",
    "        )\n",
    "        return '/n'.join(output)\n",
    "    \n",
    "    def to_dict(self):\n",
    "        return {\n",
    "        \"AGE\": self.age,\n",
    "        \"SEX\": self.sex,\n",
    "        \"COLLEGE\": self.college,\n",
    "        \"ACT_SCORE\": self.act,\n",
    "        \"DEGREE\": self.degree,\n",
    "        \"FIELD\": self.field\n",
    "        }"
   ]
  },
  {
   "cell_type": "code",
   "execution_count": 234,
   "id": "81a00abc",
   "metadata": {},
   "outputs": [],
   "source": [
    "marry = RandomUser"
   ]
  },
  {
   "cell_type": "code",
   "execution_count": 235,
   "id": "abbb4589",
   "metadata": {},
   "outputs": [
    {
     "data": {
      "text/plain": [
       "__main__.RandomUser"
      ]
     },
     "execution_count": 235,
     "metadata": {},
     "output_type": "execute_result"
    }
   ],
   "source": [
    "marry"
   ]
  },
  {
   "cell_type": "code",
   "execution_count": 236,
   "id": "4ab8a0e7",
   "metadata": {},
   "outputs": [],
   "source": [
    "import pandas as pd\n",
    "import random"
   ]
  },
  {
   "cell_type": "code",
   "execution_count": 237,
   "id": "ce870b46",
   "metadata": {},
   "outputs": [],
   "source": [
    "df = pd.DataFrame(RandomUser().to_dict() for _ in range(100000))"
   ]
  },
  {
   "cell_type": "code",
   "execution_count": 238,
   "id": "09378211",
   "metadata": {},
   "outputs": [
    {
     "data": {
      "text/html": [
       "<div>\n",
       "<style scoped>\n",
       "    .dataframe tbody tr th:only-of-type {\n",
       "        vertical-align: middle;\n",
       "    }\n",
       "\n",
       "    .dataframe tbody tr th {\n",
       "        vertical-align: top;\n",
       "    }\n",
       "\n",
       "    .dataframe thead th {\n",
       "        text-align: right;\n",
       "    }\n",
       "</style>\n",
       "<table border=\"1\" class=\"dataframe\">\n",
       "  <thead>\n",
       "    <tr style=\"text-align: right;\">\n",
       "      <th></th>\n",
       "      <th>AGE</th>\n",
       "      <th>SEX</th>\n",
       "      <th>COLLEGE</th>\n",
       "      <th>ACT_SCORE</th>\n",
       "      <th>DEGREE</th>\n",
       "      <th>FIELD</th>\n",
       "    </tr>\n",
       "  </thead>\n",
       "  <tbody>\n",
       "    <tr>\n",
       "      <th>0</th>\n",
       "      <td>33</td>\n",
       "      <td>Male</td>\n",
       "      <td>Private</td>\n",
       "      <td>28</td>\n",
       "      <td>Bachelors/Associates</td>\n",
       "      <td>Bussiness</td>\n",
       "    </tr>\n",
       "    <tr>\n",
       "      <th>1</th>\n",
       "      <td>29</td>\n",
       "      <td>Female</td>\n",
       "      <td>Public</td>\n",
       "      <td>23</td>\n",
       "      <td>Bachelors/Associates</td>\n",
       "      <td>LiberalArts/Education</td>\n",
       "    </tr>\n",
       "    <tr>\n",
       "      <th>2</th>\n",
       "      <td>28</td>\n",
       "      <td>Female</td>\n",
       "      <td>Private</td>\n",
       "      <td>26</td>\n",
       "      <td>Bachelors/Associates</td>\n",
       "      <td>LiberalArts/Education</td>\n",
       "    </tr>\n",
       "    <tr>\n",
       "      <th>3</th>\n",
       "      <td>33</td>\n",
       "      <td>Male</td>\n",
       "      <td>Public</td>\n",
       "      <td>23</td>\n",
       "      <td>Bachelors/Associates</td>\n",
       "      <td>ComputerScience</td>\n",
       "    </tr>\n",
       "    <tr>\n",
       "      <th>4</th>\n",
       "      <td>32</td>\n",
       "      <td>Female</td>\n",
       "      <td>Public</td>\n",
       "      <td>26</td>\n",
       "      <td>Masters/Phd</td>\n",
       "      <td>LiberalArts/Education</td>\n",
       "    </tr>\n",
       "  </tbody>\n",
       "</table>\n",
       "</div>"
      ],
      "text/plain": [
       "   AGE     SEX  COLLEGE  ACT_SCORE                DEGREE  \\\n",
       "0   33    Male  Private         28  Bachelors/Associates   \n",
       "1   29  Female   Public         23  Bachelors/Associates   \n",
       "2   28  Female  Private         26  Bachelors/Associates   \n",
       "3   33    Male   Public         23  Bachelors/Associates   \n",
       "4   32  Female   Public         26           Masters/Phd   \n",
       "\n",
       "                   FIELD  \n",
       "0              Bussiness  \n",
       "1  LiberalArts/Education  \n",
       "2  LiberalArts/Education  \n",
       "3        ComputerScience  \n",
       "4  LiberalArts/Education  "
      ]
     },
     "execution_count": 238,
     "metadata": {},
     "output_type": "execute_result"
    }
   ],
   "source": [
    "df.head()"
   ]
  },
  {
   "cell_type": "code",
   "execution_count": 239,
   "id": "042db5cf",
   "metadata": {},
   "outputs": [],
   "source": [
    "from Fortuna import FlexCat\n",
    "import random"
   ]
  },
  {
   "cell_type": "code",
   "execution_count": 240,
   "id": "3038ffaf",
   "metadata": {},
   "outputs": [],
   "source": [
    "def salary_dependency_func (df):\n",
    "    Base_Salary = 20000\n",
    "    \n",
    "    if df['AGE'] < 25:\n",
    "        w1 = 1.2\n",
    "    else:\n",
    "        w1 = 1\n",
    "    if df['SEX'] == 'Female' and df['AGE'] < 30:\n",
    "        w2 = 1.3\n",
    "    else:\n",
    "        w2 = 0.87\n",
    "    if df['SEX'] == 'Male' and df['DEGREE'] == 'Masters/Phd' and df['COLLEGE'] == 'Private':\n",
    "        w2 = 1.6\n",
    "    else:\n",
    "        w2 = 1.23\n",
    "    if df['DEGREE'] == 'Masters/Phd':\n",
    "        w3 = 1.9\n",
    "    else:\n",
    "        w3 = 0.7\n",
    "    if df['FIELD'] == 'ComputerScience' or 'Math/Science':\n",
    "        w4 = 1.9\n",
    "    elif df['FIELD'] == 'Bussiness':\n",
    "        w4 = 1.22\n",
    "    else:\n",
    "        w4 = 0.6\n",
    "    w5 = random.uniform(0.7, 3.4)\n",
    "        \n",
    "    final_salary = Base_Salary * w1 * w2 * w3 * w4 * w5\n",
    "    return final_salary"
   ]
  },
  {
   "cell_type": "code",
   "execution_count": 241,
   "id": "50eb04ef",
   "metadata": {},
   "outputs": [],
   "source": [
    "df['Salary'] = df.apply(salary_dependency_func, axis=1)"
   ]
  },
  {
   "cell_type": "code",
   "execution_count": 242,
   "id": "2ec2234e",
   "metadata": {},
   "outputs": [
    {
     "data": {
      "text/html": [
       "<div>\n",
       "<style scoped>\n",
       "    .dataframe tbody tr th:only-of-type {\n",
       "        vertical-align: middle;\n",
       "    }\n",
       "\n",
       "    .dataframe tbody tr th {\n",
       "        vertical-align: top;\n",
       "    }\n",
       "\n",
       "    .dataframe thead th {\n",
       "        text-align: right;\n",
       "    }\n",
       "</style>\n",
       "<table border=\"1\" class=\"dataframe\">\n",
       "  <thead>\n",
       "    <tr style=\"text-align: right;\">\n",
       "      <th></th>\n",
       "      <th>AGE</th>\n",
       "      <th>SEX</th>\n",
       "      <th>COLLEGE</th>\n",
       "      <th>ACT_SCORE</th>\n",
       "      <th>DEGREE</th>\n",
       "      <th>FIELD</th>\n",
       "      <th>Salary</th>\n",
       "    </tr>\n",
       "  </thead>\n",
       "  <tbody>\n",
       "    <tr>\n",
       "      <th>0</th>\n",
       "      <td>33</td>\n",
       "      <td>Male</td>\n",
       "      <td>Private</td>\n",
       "      <td>28</td>\n",
       "      <td>Bachelors/Associates</td>\n",
       "      <td>Bussiness</td>\n",
       "      <td>31824.688031</td>\n",
       "    </tr>\n",
       "    <tr>\n",
       "      <th>1</th>\n",
       "      <td>29</td>\n",
       "      <td>Female</td>\n",
       "      <td>Public</td>\n",
       "      <td>23</td>\n",
       "      <td>Bachelors/Associates</td>\n",
       "      <td>LiberalArts/Education</td>\n",
       "      <td>54471.278888</td>\n",
       "    </tr>\n",
       "    <tr>\n",
       "      <th>2</th>\n",
       "      <td>28</td>\n",
       "      <td>Female</td>\n",
       "      <td>Private</td>\n",
       "      <td>26</td>\n",
       "      <td>Bachelors/Associates</td>\n",
       "      <td>LiberalArts/Education</td>\n",
       "      <td>74158.578044</td>\n",
       "    </tr>\n",
       "    <tr>\n",
       "      <th>3</th>\n",
       "      <td>33</td>\n",
       "      <td>Male</td>\n",
       "      <td>Public</td>\n",
       "      <td>23</td>\n",
       "      <td>Bachelors/Associates</td>\n",
       "      <td>ComputerScience</td>\n",
       "      <td>72722.077915</td>\n",
       "    </tr>\n",
       "    <tr>\n",
       "      <th>4</th>\n",
       "      <td>32</td>\n",
       "      <td>Female</td>\n",
       "      <td>Public</td>\n",
       "      <td>26</td>\n",
       "      <td>Masters/Phd</td>\n",
       "      <td>LiberalArts/Education</td>\n",
       "      <td>237836.215622</td>\n",
       "    </tr>\n",
       "  </tbody>\n",
       "</table>\n",
       "</div>"
      ],
      "text/plain": [
       "   AGE     SEX  COLLEGE  ACT_SCORE                DEGREE  \\\n",
       "0   33    Male  Private         28  Bachelors/Associates   \n",
       "1   29  Female   Public         23  Bachelors/Associates   \n",
       "2   28  Female  Private         26  Bachelors/Associates   \n",
       "3   33    Male   Public         23  Bachelors/Associates   \n",
       "4   32  Female   Public         26           Masters/Phd   \n",
       "\n",
       "                   FIELD         Salary  \n",
       "0              Bussiness   31824.688031  \n",
       "1  LiberalArts/Education   54471.278888  \n",
       "2  LiberalArts/Education   74158.578044  \n",
       "3        ComputerScience   72722.077915  \n",
       "4  LiberalArts/Education  237836.215622  "
      ]
     },
     "execution_count": 242,
     "metadata": {},
     "output_type": "execute_result"
    }
   ],
   "source": [
    "df.head()"
   ]
  },
  {
   "cell_type": "code",
   "execution_count": 243,
   "id": "a1c1a849",
   "metadata": {},
   "outputs": [
    {
     "data": {
      "text/plain": [
       "count    100000.000000\n",
       "mean      85434.010961\n",
       "std       56415.989315\n",
       "min       22904.636115\n",
       "25%       49232.787824\n",
       "50%       74560.798472\n",
       "75%       99214.163412\n",
       "max      462860.254145\n",
       "Name: Salary, dtype: float64"
      ]
     },
     "execution_count": 243,
     "metadata": {},
     "output_type": "execute_result"
    }
   ],
   "source": [
    "df['Salary'].describe()"
   ]
  },
  {
   "cell_type": "code",
   "execution_count": 244,
   "id": "78f058fc",
   "metadata": {},
   "outputs": [],
   "source": [
    " from sklearn.model_selection import train_test_split"
   ]
  },
  {
   "cell_type": "code",
   "execution_count": 274,
   "id": "9912cefe",
   "metadata": {},
   "outputs": [],
   "source": [
    "y = df['Salary']\n",
    "X = df.drop('Salary', axis=1)"
   ]
  },
  {
   "cell_type": "code",
   "execution_count": 275,
   "id": "2ad2640f",
   "metadata": {},
   "outputs": [],
   "source": [
    "X_train, X_test, y_train, y_test = train_test_split( X, y, test_size=0.33, random_state=42)"
   ]
  },
  {
   "cell_type": "code",
   "execution_count": 170,
   "id": "24764e3e",
   "metadata": {},
   "outputs": [
    {
     "name": "stdout",
     "output_type": "stream",
     "text": [
      "Collecting category_encoders\n",
      "  Downloading category_encoders-2.2.2-py2.py3-none-any.whl (80 kB)\n",
      "\u001b[K     |████████████████████████████████| 80 kB 2.8 MB/s eta 0:00:01\n",
      "\u001b[?25hRequirement already satisfied: numpy>=1.14.0 in /Library/Frameworks/Python.framework/Versions/3.9/lib/python3.9/site-packages (from category_encoders) (1.19.5)\n",
      "Requirement already satisfied: scikit-learn>=0.20.0 in /Library/Frameworks/Python.framework/Versions/3.9/lib/python3.9/site-packages (from category_encoders) (0.24.2)\n",
      "Collecting statsmodels>=0.9.0\n",
      "  Downloading statsmodels-0.12.2-cp39-cp39-macosx_10_15_x86_64.whl (9.6 MB)\n",
      "\u001b[K     |████████████████████████████████| 9.6 MB 1.3 MB/s eta 0:00:01\n",
      "\u001b[?25hRequirement already satisfied: pandas>=0.21.1 in /Library/Frameworks/Python.framework/Versions/3.9/lib/python3.9/site-packages (from category_encoders) (1.3.2)\n",
      "Requirement already satisfied: scipy>=1.0.0 in /Library/Frameworks/Python.framework/Versions/3.9/lib/python3.9/site-packages (from category_encoders) (1.6.3)\n",
      "Collecting patsy>=0.5.1\n",
      "  Downloading patsy-0.5.1-py2.py3-none-any.whl (231 kB)\n",
      "\u001b[K     |████████████████████████████████| 231 kB 18.3 MB/s eta 0:00:01\n",
      "\u001b[?25hRequirement already satisfied: python-dateutil>=2.7.3 in /Library/Frameworks/Python.framework/Versions/3.9/lib/python3.9/site-packages (from pandas>=0.21.1->category_encoders) (2.8.1)\n",
      "Requirement already satisfied: pytz>=2017.3 in /Library/Frameworks/Python.framework/Versions/3.9/lib/python3.9/site-packages (from pandas>=0.21.1->category_encoders) (2021.1)\n",
      "Requirement already satisfied: six in /Library/Frameworks/Python.framework/Versions/3.9/lib/python3.9/site-packages (from patsy>=0.5.1->category_encoders) (1.14.0)\n",
      "Requirement already satisfied: threadpoolctl>=2.0.0 in /Library/Frameworks/Python.framework/Versions/3.9/lib/python3.9/site-packages (from scikit-learn>=0.20.0->category_encoders) (2.1.0)\n",
      "Requirement already satisfied: joblib>=0.11 in /Library/Frameworks/Python.framework/Versions/3.9/lib/python3.9/site-packages (from scikit-learn>=0.20.0->category_encoders) (1.0.1)\n",
      "Installing collected packages: patsy, statsmodels, category-encoders\n",
      "Successfully installed category-encoders-2.2.2 patsy-0.5.1 statsmodels-0.12.2\n",
      "\u001b[33mWARNING: You are using pip version 21.1.1; however, version 21.2.4 is available.\n",
      "You should consider upgrading via the '/usr/local/bin/python -m pip install --upgrade pip' command.\u001b[0m\n"
     ]
    }
   ],
   "source": [
    "!pip install --upgrade category_encoders\n",
    "import category_encoders as ce"
   ]
  },
  {
   "cell_type": "code",
   "execution_count": 247,
   "id": "faaa4a52",
   "metadata": {},
   "outputs": [],
   "source": [
    "from sklearn.preprocessing import StandardScaler"
   ]
  },
  {
   "cell_type": "code",
   "execution_count": 210,
   "id": "126673bc",
   "metadata": {},
   "outputs": [
    {
     "data": {
      "text/plain": [
       "Index(['AGE', 'SEX_Male', 'SEX_Female', 'SEX_Non-Binary', 'COLLEGE_Private',\n",
       "       'COLLEGE_Public', 'ACT_SCORE', 'DEGREE_Bachelors/Associates',\n",
       "       'DEGREE_Masters/Phd', 'FIELD_Bussiness', 'FIELD_Math/Science',\n",
       "       'FIELD_ComputerScience', 'FIELD_LiberalArts/Education'],\n",
       "      dtype='object')"
      ]
     },
     "execution_count": 210,
     "metadata": {},
     "output_type": "execute_result"
    }
   ],
   "source": [
    "X.columns"
   ]
  },
  {
   "cell_type": "code",
   "execution_count": 276,
   "id": "bc8788a7",
   "metadata": {},
   "outputs": [
    {
     "name": "stderr",
     "output_type": "stream",
     "text": [
      "/Library/Frameworks/Python.framework/Versions/3.9/lib/python3.9/site-packages/category_encoders/utils.py:21: FutureWarning: is_categorical is deprecated and will be removed in a future version.  Use is_categorical_dtype instead\n",
      "  elif pd.api.types.is_categorical(cols):\n"
     ]
    }
   ],
   "source": [
    "X_test = ohe(X_test)\n",
    "X_train = ohe(X_train)"
   ]
  },
  {
   "cell_type": "code",
   "execution_count": 277,
   "id": "5829a7a4",
   "metadata": {},
   "outputs": [
    {
     "data": {
      "text/html": [
       "<div>\n",
       "<style scoped>\n",
       "    .dataframe tbody tr th:only-of-type {\n",
       "        vertical-align: middle;\n",
       "    }\n",
       "\n",
       "    .dataframe tbody tr th {\n",
       "        vertical-align: top;\n",
       "    }\n",
       "\n",
       "    .dataframe thead th {\n",
       "        text-align: right;\n",
       "    }\n",
       "</style>\n",
       "<table border=\"1\" class=\"dataframe\">\n",
       "  <thead>\n",
       "    <tr style=\"text-align: right;\">\n",
       "      <th></th>\n",
       "      <th>AGE</th>\n",
       "      <th>SEX_Male</th>\n",
       "      <th>SEX_Female</th>\n",
       "      <th>SEX_Non-Binary</th>\n",
       "      <th>COLLEGE_Public</th>\n",
       "      <th>COLLEGE_Private</th>\n",
       "      <th>ACT_SCORE</th>\n",
       "      <th>DEGREE_Masters/Phd</th>\n",
       "      <th>DEGREE_Bachelors/Associates</th>\n",
       "      <th>FIELD_LiberalArts/Education</th>\n",
       "      <th>FIELD_Math/Science</th>\n",
       "      <th>FIELD_Bussiness</th>\n",
       "      <th>FIELD_ComputerScience</th>\n",
       "    </tr>\n",
       "  </thead>\n",
       "  <tbody>\n",
       "    <tr>\n",
       "      <th>59428</th>\n",
       "      <td>30</td>\n",
       "      <td>1</td>\n",
       "      <td>0</td>\n",
       "      <td>0</td>\n",
       "      <td>1</td>\n",
       "      <td>0</td>\n",
       "      <td>23</td>\n",
       "      <td>1</td>\n",
       "      <td>0</td>\n",
       "      <td>1</td>\n",
       "      <td>0</td>\n",
       "      <td>0</td>\n",
       "      <td>0</td>\n",
       "    </tr>\n",
       "    <tr>\n",
       "      <th>34957</th>\n",
       "      <td>29</td>\n",
       "      <td>0</td>\n",
       "      <td>1</td>\n",
       "      <td>0</td>\n",
       "      <td>1</td>\n",
       "      <td>0</td>\n",
       "      <td>24</td>\n",
       "      <td>0</td>\n",
       "      <td>1</td>\n",
       "      <td>1</td>\n",
       "      <td>0</td>\n",
       "      <td>0</td>\n",
       "      <td>0</td>\n",
       "    </tr>\n",
       "    <tr>\n",
       "      <th>4264</th>\n",
       "      <td>28</td>\n",
       "      <td>0</td>\n",
       "      <td>1</td>\n",
       "      <td>0</td>\n",
       "      <td>1</td>\n",
       "      <td>0</td>\n",
       "      <td>23</td>\n",
       "      <td>0</td>\n",
       "      <td>1</td>\n",
       "      <td>0</td>\n",
       "      <td>1</td>\n",
       "      <td>0</td>\n",
       "      <td>0</td>\n",
       "    </tr>\n",
       "    <tr>\n",
       "      <th>53791</th>\n",
       "      <td>30</td>\n",
       "      <td>0</td>\n",
       "      <td>1</td>\n",
       "      <td>0</td>\n",
       "      <td>0</td>\n",
       "      <td>1</td>\n",
       "      <td>24</td>\n",
       "      <td>0</td>\n",
       "      <td>1</td>\n",
       "      <td>0</td>\n",
       "      <td>0</td>\n",
       "      <td>1</td>\n",
       "      <td>0</td>\n",
       "    </tr>\n",
       "    <tr>\n",
       "      <th>82114</th>\n",
       "      <td>27</td>\n",
       "      <td>0</td>\n",
       "      <td>1</td>\n",
       "      <td>0</td>\n",
       "      <td>1</td>\n",
       "      <td>0</td>\n",
       "      <td>21</td>\n",
       "      <td>0</td>\n",
       "      <td>1</td>\n",
       "      <td>0</td>\n",
       "      <td>0</td>\n",
       "      <td>0</td>\n",
       "      <td>1</td>\n",
       "    </tr>\n",
       "  </tbody>\n",
       "</table>\n",
       "</div>"
      ],
      "text/plain": [
       "       AGE  SEX_Male  SEX_Female  SEX_Non-Binary  COLLEGE_Public  \\\n",
       "59428   30         1           0               0               1   \n",
       "34957   29         0           1               0               1   \n",
       "4264    28         0           1               0               1   \n",
       "53791   30         0           1               0               0   \n",
       "82114   27         0           1               0               1   \n",
       "\n",
       "       COLLEGE_Private  ACT_SCORE  DEGREE_Masters/Phd  \\\n",
       "59428                0         23                   1   \n",
       "34957                0         24                   0   \n",
       "4264                 0         23                   0   \n",
       "53791                1         24                   0   \n",
       "82114                0         21                   0   \n",
       "\n",
       "       DEGREE_Bachelors/Associates  FIELD_LiberalArts/Education  \\\n",
       "59428                            0                            1   \n",
       "34957                            1                            1   \n",
       "4264                             1                            0   \n",
       "53791                            1                            0   \n",
       "82114                            1                            0   \n",
       "\n",
       "       FIELD_Math/Science  FIELD_Bussiness  FIELD_ComputerScience  \n",
       "59428                   0                0                      0  \n",
       "34957                   0                0                      0  \n",
       "4264                    1                0                      0  \n",
       "53791                   0                1                      0  \n",
       "82114                   0                0                      1  "
      ]
     },
     "execution_count": 277,
     "metadata": {},
     "output_type": "execute_result"
    }
   ],
   "source": [
    "X_train.head()"
   ]
  },
  {
   "cell_type": "code",
   "execution_count": 278,
   "id": "ccf6873d",
   "metadata": {},
   "outputs": [],
   "source": [
    "from sklearn import linear_model"
   ]
  },
  {
   "cell_type": "code",
   "execution_count": 279,
   "id": "8df8a2c9",
   "metadata": {},
   "outputs": [],
   "source": [
    "regr = linear_model.LinearRegression()"
   ]
  },
  {
   "cell_type": "code",
   "execution_count": 280,
   "id": "51715955",
   "metadata": {},
   "outputs": [
    {
     "data": {
      "text/plain": [
       "LinearRegression()"
      ]
     },
     "execution_count": 280,
     "metadata": {},
     "output_type": "execute_result"
    }
   ],
   "source": [
    "regr.fit(X_train, y_train)\n"
   ]
  },
  {
   "cell_type": "code",
   "execution_count": 281,
   "id": "62f3ea4c",
   "metadata": {},
   "outputs": [
    {
     "data": {
      "text/plain": [
       "array([-5.25990840e+02, -3.30371174e+14, -3.30371174e+14, -3.30371174e+14,\n",
       "       -1.64645227e+15, -1.64645227e+15,  2.90312500e+01,  5.78802519e+16,\n",
       "        5.78802519e+16, -7.61949418e+16, -7.61949418e+16, -7.61949418e+16,\n",
       "       -7.61949418e+16])"
      ]
     },
     "execution_count": 281,
     "metadata": {},
     "output_type": "execute_result"
    }
   ],
   "source": [
    "regr.coef_"
   ]
  },
  {
   "cell_type": "code",
   "execution_count": 262,
   "id": "71967ded",
   "metadata": {},
   "outputs": [],
   "source": [
    "a=regr.predict(X_test)"
   ]
  },
  {
   "cell_type": "code",
   "execution_count": 264,
   "id": "482238e1",
   "metadata": {},
   "outputs": [],
   "source": [
    "predicted = pd.DataFrame(a)"
   ]
  },
  {
   "cell_type": "code",
   "execution_count": 266,
   "id": "9fbe5b6a",
   "metadata": {},
   "outputs": [
    {
     "data": {
      "text/plain": [
       "(33000, 1)"
      ]
     },
     "execution_count": 266,
     "metadata": {},
     "output_type": "execute_result"
    }
   ],
   "source": [
    "predicted.shape"
   ]
  },
  {
   "cell_type": "code",
   "execution_count": 284,
   "id": "6df27744",
   "metadata": {},
   "outputs": [
    {
     "data": {
      "text/html": [
       "<div>\n",
       "<style scoped>\n",
       "    .dataframe tbody tr th:only-of-type {\n",
       "        vertical-align: middle;\n",
       "    }\n",
       "\n",
       "    .dataframe tbody tr th {\n",
       "        vertical-align: top;\n",
       "    }\n",
       "\n",
       "    .dataframe thead th {\n",
       "        text-align: right;\n",
       "    }\n",
       "</style>\n",
       "<table border=\"1\" class=\"dataframe\">\n",
       "  <thead>\n",
       "    <tr style=\"text-align: right;\">\n",
       "      <th></th>\n",
       "      <th>0</th>\n",
       "    </tr>\n",
       "  </thead>\n",
       "  <tbody>\n",
       "    <tr>\n",
       "      <th>0</th>\n",
       "      <td>65344.0</td>\n",
       "    </tr>\n",
       "    <tr>\n",
       "      <th>1</th>\n",
       "      <td>67968.0</td>\n",
       "    </tr>\n",
       "    <tr>\n",
       "      <th>2</th>\n",
       "      <td>66960.0</td>\n",
       "    </tr>\n",
       "    <tr>\n",
       "      <th>3</th>\n",
       "      <td>183184.0</td>\n",
       "    </tr>\n",
       "    <tr>\n",
       "      <th>4</th>\n",
       "      <td>66912.0</td>\n",
       "    </tr>\n",
       "    <tr>\n",
       "      <th>5</th>\n",
       "      <td>71184.0</td>\n",
       "    </tr>\n",
       "    <tr>\n",
       "      <th>6</th>\n",
       "      <td>69744.0</td>\n",
       "    </tr>\n",
       "    <tr>\n",
       "      <th>7</th>\n",
       "      <td>72080.0</td>\n",
       "    </tr>\n",
       "    <tr>\n",
       "      <th>8</th>\n",
       "      <td>68816.0</td>\n",
       "    </tr>\n",
       "    <tr>\n",
       "      <th>9</th>\n",
       "      <td>186816.0</td>\n",
       "    </tr>\n",
       "    <tr>\n",
       "      <th>10</th>\n",
       "      <td>62976.0</td>\n",
       "    </tr>\n",
       "    <tr>\n",
       "      <th>11</th>\n",
       "      <td>184944.0</td>\n",
       "    </tr>\n",
       "    <tr>\n",
       "      <th>12</th>\n",
       "      <td>188656.0</td>\n",
       "    </tr>\n",
       "    <tr>\n",
       "      <th>13</th>\n",
       "      <td>66000.0</td>\n",
       "    </tr>\n",
       "    <tr>\n",
       "      <th>14</th>\n",
       "      <td>65712.0</td>\n",
       "    </tr>\n",
       "    <tr>\n",
       "      <th>15</th>\n",
       "      <td>67264.0</td>\n",
       "    </tr>\n",
       "    <tr>\n",
       "      <th>16</th>\n",
       "      <td>67248.0</td>\n",
       "    </tr>\n",
       "    <tr>\n",
       "      <th>17</th>\n",
       "      <td>64624.0</td>\n",
       "    </tr>\n",
       "    <tr>\n",
       "      <th>18</th>\n",
       "      <td>66896.0</td>\n",
       "    </tr>\n",
       "    <tr>\n",
       "      <th>19</th>\n",
       "      <td>68352.0</td>\n",
       "    </tr>\n",
       "  </tbody>\n",
       "</table>\n",
       "</div>"
      ],
      "text/plain": [
       "           0\n",
       "0    65344.0\n",
       "1    67968.0\n",
       "2    66960.0\n",
       "3   183184.0\n",
       "4    66912.0\n",
       "5    71184.0\n",
       "6    69744.0\n",
       "7    72080.0\n",
       "8    68816.0\n",
       "9   186816.0\n",
       "10   62976.0\n",
       "11  184944.0\n",
       "12  188656.0\n",
       "13   66000.0\n",
       "14   65712.0\n",
       "15   67264.0\n",
       "16   67248.0\n",
       "17   64624.0\n",
       "18   66896.0\n",
       "19   68352.0"
      ]
     },
     "execution_count": 284,
     "metadata": {},
     "output_type": "execute_result"
    }
   ],
   "source": [
    "predicted.head(20)"
   ]
  },
  {
   "cell_type": "code",
   "execution_count": 267,
   "id": "13b5bc9e",
   "metadata": {},
   "outputs": [
    {
     "data": {
      "text/plain": [
       "(33000,)"
      ]
     },
     "execution_count": 267,
     "metadata": {},
     "output_type": "execute_result"
    }
   ],
   "source": [
    "y_test.shape"
   ]
  },
  {
   "cell_type": "code",
   "execution_count": 292,
   "id": "828379ab",
   "metadata": {},
   "outputs": [],
   "source": [
    "y_test = y_test.reset_index()"
   ]
  },
  {
   "cell_type": "code",
   "execution_count": 295,
   "id": "5a4ba70d",
   "metadata": {},
   "outputs": [
    {
     "data": {
      "text/plain": [
       "(33000, 2)"
      ]
     },
     "execution_count": 295,
     "metadata": {},
     "output_type": "execute_result"
    }
   ],
   "source": [
    "y_test.shape"
   ]
  },
  {
   "cell_type": "code",
   "execution_count": 299,
   "id": "8f6d5788",
   "metadata": {},
   "outputs": [],
   "source": [
    "y_test = y_test['Salary']"
   ]
  },
  {
   "cell_type": "code",
   "execution_count": 300,
   "id": "3827c285",
   "metadata": {},
   "outputs": [
    {
     "data": {
      "text/plain": [
       "0         32642.999187\n",
       "1         62005.374965\n",
       "2         31947.140273\n",
       "3        167778.995363\n",
       "4         68557.186260\n",
       "             ...      \n",
       "32995     36532.128126\n",
       "32996     35338.797489\n",
       "32997     81375.713072\n",
       "32998     43287.840771\n",
       "32999     45553.078221\n",
       "Name: Salary, Length: 33000, dtype: float64"
      ]
     },
     "execution_count": 300,
     "metadata": {},
     "output_type": "execute_result"
    }
   ],
   "source": [
    "y_test"
   ]
  },
  {
   "cell_type": "code",
   "execution_count": 303,
   "id": "7181fd23",
   "metadata": {},
   "outputs": [],
   "source": [
    "from sklearn.metrics import mean_absolute_error"
   ]
  },
  {
   "cell_type": "code",
   "execution_count": 304,
   "id": "b932d755",
   "metadata": {},
   "outputs": [
    {
     "data": {
      "text/plain": [
       "28289.071712769044"
      ]
     },
     "execution_count": 304,
     "metadata": {},
     "output_type": "execute_result"
    }
   ],
   "source": [
    "mean_absolute_error(y_test, predicted)"
   ]
  }
 ],
 "metadata": {
  "kernelspec": {
   "display_name": "Python 3",
   "language": "python",
   "name": "python3"
  },
  "language_info": {
   "codemirror_mode": {
    "name": "ipython",
    "version": 3
   },
   "file_extension": ".py",
   "mimetype": "text/x-python",
   "name": "python",
   "nbconvert_exporter": "python",
   "pygments_lexer": "ipython3",
   "version": "3.9.5"
  }
 },
 "nbformat": 4,
 "nbformat_minor": 5
}
